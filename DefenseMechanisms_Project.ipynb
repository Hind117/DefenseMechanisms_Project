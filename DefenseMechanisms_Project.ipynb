{
  "cells": [
    {
      "cell_type": "markdown",
      "metadata": {
        "id": "view-in-github",
        "colab_type": "text"
      },
      "source": [
        "<a href=\"https://colab.research.google.com/github/Hind117/DefenseMechanisms_Project/blob/main/DefenseMechanisms_Project.ipynb\" target=\"_parent\"><img src=\"https://colab.research.google.com/assets/colab-badge.svg\" alt=\"Open In Colab\"/></a>"
      ]
    },
    {
      "cell_type": "code",
      "execution_count": 127,
      "metadata": {
        "colab": {
          "base_uri": "https://localhost:8080/"
        },
        "id": "BYhy4NEcLW-9",
        "outputId": "c2b433e5-7b64-4489-e63c-fefbfa4ac98f"
      },
      "outputs": [
        {
          "output_type": "stream",
          "name": "stdout",
          "text": [
            "[nltk_data] Downloading package punkt to /root/nltk_data...\n",
            "[nltk_data]   Package punkt is already up-to-date!\n"
          ]
        },
        {
          "output_type": "execute_result",
          "data": {
            "text/plain": [
              "True"
            ]
          },
          "metadata": {},
          "execution_count": 127
        }
      ],
      "source": [
        "#import libraries\n",
        "import pandas as pd\n",
        "import numpy as np\n",
        "import re\n",
        "import nltk\n",
        "import csv\n",
        "from nltk.tokenize import word_tokenize\n",
        "from sklearn.pipeline import Pipeline\n",
        "from sklearn.model_selection import train_test_split, cross_val_score\n",
        "from sklearn.metrics import classification_report\n",
        "from sklearn.feature_extraction.text import CountVectorizer, TfidfTransformer\n",
        "from sklearn.linear_model import LogisticRegression\n",
        "from sklearn.metrics import precision_score, recall_score, f1_score, accuracy_score\n",
        "from sklearn.metrics import confusion_matrix\n",
        "from sklearn.naive_bayes import MultinomialNB\n",
        "from sklearn.svm import SVC\n",
        "from sklearn.ensemble import RandomForestClassifier\n",
        "from sklearn.tree import DecisionTreeClassifier\n",
        "nltk.download('punkt')"
      ]
    },
    {
      "cell_type": "code",
      "execution_count": 128,
      "metadata": {
        "colab": {
          "base_uri": "https://localhost:8080/",
          "height": 206
        },
        "id": "SbAZITmmMQ2M",
        "outputId": "394e768a-c9c8-4fed-e100-9f6801fff40b"
      },
      "outputs": [
        {
          "output_type": "execute_result",
          "data": {
            "text/plain": [
              "   Unnamed: 0                                           Sentence  Label\n",
              "0           0  <li><a href=\"/wiki/File:Socrates.png\" class=\"i...      0\n",
              "1           1               <tt onmouseover=\"alert(1)\">test</tt>      1\n",
              "2           2  \\t </span> <span class=\"reference-text\">Steeri...      0\n",
              "3           3  \\t </span> <span class=\"reference-text\"><cite ...      0\n",
              "4           4  \\t </span>. <a href=\"/wiki/Digital_object_iden...      0"
            ],
            "text/html": [
              "\n",
              "  <div id=\"df-19ca28c2-38f9-420e-98a5-310eafad6f10\">\n",
              "    <div class=\"colab-df-container\">\n",
              "      <div>\n",
              "<style scoped>\n",
              "    .dataframe tbody tr th:only-of-type {\n",
              "        vertical-align: middle;\n",
              "    }\n",
              "\n",
              "    .dataframe tbody tr th {\n",
              "        vertical-align: top;\n",
              "    }\n",
              "\n",
              "    .dataframe thead th {\n",
              "        text-align: right;\n",
              "    }\n",
              "</style>\n",
              "<table border=\"1\" class=\"dataframe\">\n",
              "  <thead>\n",
              "    <tr style=\"text-align: right;\">\n",
              "      <th></th>\n",
              "      <th>Unnamed: 0</th>\n",
              "      <th>Sentence</th>\n",
              "      <th>Label</th>\n",
              "    </tr>\n",
              "  </thead>\n",
              "  <tbody>\n",
              "    <tr>\n",
              "      <th>0</th>\n",
              "      <td>0</td>\n",
              "      <td>&lt;li&gt;&lt;a href=\"/wiki/File:Socrates.png\" class=\"i...</td>\n",
              "      <td>0</td>\n",
              "    </tr>\n",
              "    <tr>\n",
              "      <th>1</th>\n",
              "      <td>1</td>\n",
              "      <td>&lt;tt onmouseover=\"alert(1)\"&gt;test&lt;/tt&gt;</td>\n",
              "      <td>1</td>\n",
              "    </tr>\n",
              "    <tr>\n",
              "      <th>2</th>\n",
              "      <td>2</td>\n",
              "      <td>\\t &lt;/span&gt; &lt;span class=\"reference-text\"&gt;Steeri...</td>\n",
              "      <td>0</td>\n",
              "    </tr>\n",
              "    <tr>\n",
              "      <th>3</th>\n",
              "      <td>3</td>\n",
              "      <td>\\t &lt;/span&gt; &lt;span class=\"reference-text\"&gt;&lt;cite ...</td>\n",
              "      <td>0</td>\n",
              "    </tr>\n",
              "    <tr>\n",
              "      <th>4</th>\n",
              "      <td>4</td>\n",
              "      <td>\\t &lt;/span&gt;. &lt;a href=\"/wiki/Digital_object_iden...</td>\n",
              "      <td>0</td>\n",
              "    </tr>\n",
              "  </tbody>\n",
              "</table>\n",
              "</div>\n",
              "      <button class=\"colab-df-convert\" onclick=\"convertToInteractive('df-19ca28c2-38f9-420e-98a5-310eafad6f10')\"\n",
              "              title=\"Convert this dataframe to an interactive table.\"\n",
              "              style=\"display:none;\">\n",
              "        \n",
              "  <svg xmlns=\"http://www.w3.org/2000/svg\" height=\"24px\"viewBox=\"0 0 24 24\"\n",
              "       width=\"24px\">\n",
              "    <path d=\"M0 0h24v24H0V0z\" fill=\"none\"/>\n",
              "    <path d=\"M18.56 5.44l.94 2.06.94-2.06 2.06-.94-2.06-.94-.94-2.06-.94 2.06-2.06.94zm-11 1L8.5 8.5l.94-2.06 2.06-.94-2.06-.94L8.5 2.5l-.94 2.06-2.06.94zm10 10l.94 2.06.94-2.06 2.06-.94-2.06-.94-.94-2.06-.94 2.06-2.06.94z\"/><path d=\"M17.41 7.96l-1.37-1.37c-.4-.4-.92-.59-1.43-.59-.52 0-1.04.2-1.43.59L10.3 9.45l-7.72 7.72c-.78.78-.78 2.05 0 2.83L4 21.41c.39.39.9.59 1.41.59.51 0 1.02-.2 1.41-.59l7.78-7.78 2.81-2.81c.8-.78.8-2.07 0-2.86zM5.41 20L4 18.59l7.72-7.72 1.47 1.35L5.41 20z\"/>\n",
              "  </svg>\n",
              "      </button>\n",
              "      \n",
              "  <style>\n",
              "    .colab-df-container {\n",
              "      display:flex;\n",
              "      flex-wrap:wrap;\n",
              "      gap: 12px;\n",
              "    }\n",
              "\n",
              "    .colab-df-convert {\n",
              "      background-color: #E8F0FE;\n",
              "      border: none;\n",
              "      border-radius: 50%;\n",
              "      cursor: pointer;\n",
              "      display: none;\n",
              "      fill: #1967D2;\n",
              "      height: 32px;\n",
              "      padding: 0 0 0 0;\n",
              "      width: 32px;\n",
              "    }\n",
              "\n",
              "    .colab-df-convert:hover {\n",
              "      background-color: #E2EBFA;\n",
              "      box-shadow: 0px 1px 2px rgba(60, 64, 67, 0.3), 0px 1px 3px 1px rgba(60, 64, 67, 0.15);\n",
              "      fill: #174EA6;\n",
              "    }\n",
              "\n",
              "    [theme=dark] .colab-df-convert {\n",
              "      background-color: #3B4455;\n",
              "      fill: #D2E3FC;\n",
              "    }\n",
              "\n",
              "    [theme=dark] .colab-df-convert:hover {\n",
              "      background-color: #434B5C;\n",
              "      box-shadow: 0px 1px 3px 1px rgba(0, 0, 0, 0.15);\n",
              "      filter: drop-shadow(0px 1px 2px rgba(0, 0, 0, 0.3));\n",
              "      fill: #FFFFFF;\n",
              "    }\n",
              "  </style>\n",
              "\n",
              "      <script>\n",
              "        const buttonEl =\n",
              "          document.querySelector('#df-19ca28c2-38f9-420e-98a5-310eafad6f10 button.colab-df-convert');\n",
              "        buttonEl.style.display =\n",
              "          google.colab.kernel.accessAllowed ? 'block' : 'none';\n",
              "\n",
              "        async function convertToInteractive(key) {\n",
              "          const element = document.querySelector('#df-19ca28c2-38f9-420e-98a5-310eafad6f10');\n",
              "          const dataTable =\n",
              "            await google.colab.kernel.invokeFunction('convertToInteractive',\n",
              "                                                     [key], {});\n",
              "          if (!dataTable) return;\n",
              "\n",
              "          const docLinkHtml = 'Like what you see? Visit the ' +\n",
              "            '<a target=\"_blank\" href=https://colab.research.google.com/notebooks/data_table.ipynb>data table notebook</a>'\n",
              "            + ' to learn more about interactive tables.';\n",
              "          element.innerHTML = '';\n",
              "          dataTable['output_type'] = 'display_data';\n",
              "          await google.colab.output.renderOutput(dataTable, element);\n",
              "          const docLink = document.createElement('div');\n",
              "          docLink.innerHTML = docLinkHtml;\n",
              "          element.appendChild(docLink);\n",
              "        }\n",
              "      </script>\n",
              "    </div>\n",
              "  </div>\n",
              "  "
            ]
          },
          "metadata": {},
          "execution_count": 128
        }
      ],
      "source": [
        "#read dataset file\n",
        "df = pd.read_csv(\"/content/XSS_dataset.csv\")\n",
        "\n",
        "df.head()"
      ]
    },
    {
      "cell_type": "code",
      "execution_count": 129,
      "metadata": {
        "colab": {
          "base_uri": "https://localhost:8080/"
        },
        "id": "mjlWc88NNT9B",
        "outputId": "27eabea2-a2b8-4c09-8af1-8e377b9d2df6"
      },
      "outputs": [
        {
          "output_type": "execute_result",
          "data": {
            "text/plain": [
              "(13686, 3)"
            ]
          },
          "metadata": {},
          "execution_count": 129
        }
      ],
      "source": [
        "#how many columns and rows\n",
        "df.shape"
      ]
    },
    {
      "cell_type": "code",
      "execution_count": 130,
      "metadata": {
        "colab": {
          "base_uri": "https://localhost:8080/"
        },
        "id": "h9sOJhFLNWYC",
        "outputId": "028cc452-ef83-4cd4-e934-9972d29501d3"
      },
      "outputs": [
        {
          "output_type": "execute_result",
          "data": {
            "text/plain": [
              "1    0.538726\n",
              "0    0.461274\n",
              "Name: Label, dtype: float64"
            ]
          },
          "metadata": {},
          "execution_count": 130
        }
      ],
      "source": [
        "#how many rows for each class\n",
        "df['Label'].value_counts(normalize = True)"
      ]
    },
    {
      "cell_type": "code",
      "execution_count": 131,
      "metadata": {
        "colab": {
          "base_uri": "https://localhost:8080/"
        },
        "id": "jokdLqH1OCHy",
        "outputId": "58d54430-3d52-4a3d-a925-530f0728ed30"
      },
      "outputs": [
        {
          "output_type": "execute_result",
          "data": {
            "text/plain": [
              "2769"
            ]
          },
          "metadata": {},
          "execution_count": 131
        }
      ],
      "source": [
        "#how many duplicates rows\n",
        "df.duplicated(['Sentence']).sum()"
      ]
    },
    {
      "cell_type": "code",
      "execution_count": 132,
      "metadata": {
        "colab": {
          "base_uri": "https://localhost:8080/"
        },
        "id": "hopSfaMcOFwx",
        "outputId": "0eea9ede-5f07-4d52-f76f-1fba3072d210"
      },
      "outputs": [
        {
          "output_type": "execute_result",
          "data": {
            "text/plain": [
              "Index(['Unnamed: 0', 'Sentence', 'Label'], dtype='object')"
            ]
          },
          "metadata": {},
          "execution_count": 132
        }
      ],
      "source": [
        "df.columns"
      ]
    },
    {
      "cell_type": "code",
      "execution_count": 133,
      "metadata": {
        "colab": {
          "base_uri": "https://localhost:8080/"
        },
        "id": "7ioWGSwxOIR1",
        "outputId": "167245d2-8c8b-40ed-9e56-ecbfce9e7c71"
      },
      "outputs": [
        {
          "output_type": "execute_result",
          "data": {
            "text/plain": [
              "0            0\n",
              "1            1\n",
              "2            2\n",
              "3            3\n",
              "4            4\n",
              "         ...  \n",
              "13681    13681\n",
              "13682    13682\n",
              "13683    13683\n",
              "13684    13684\n",
              "13685    13685\n",
              "Name: Unnamed: 0, Length: 13686, dtype: int64"
            ]
          },
          "metadata": {},
          "execution_count": 133
        }
      ],
      "source": [
        "#delete the id column\n",
        "df.pop('Unnamed: 0')"
      ]
    },
    {
      "cell_type": "code",
      "execution_count": 134,
      "metadata": {
        "colab": {
          "base_uri": "https://localhost:8080/"
        },
        "id": "5hBvRTK9OMp3",
        "outputId": "d2406d05-0f07-4bd9-bb88-e6e9b613d16f"
      },
      "outputs": [
        {
          "output_type": "execute_result",
          "data": {
            "text/plain": [
              "Index(['Sentence', 'Label'], dtype='object')"
            ]
          },
          "metadata": {},
          "execution_count": 134
        }
      ],
      "source": [
        "df.columns"
      ]
    },
    {
      "cell_type": "code",
      "execution_count": 135,
      "metadata": {
        "colab": {
          "base_uri": "https://localhost:8080/"
        },
        "id": "H6DdbnKXORFQ",
        "outputId": "a9dc533a-3479-455f-e697-0456cf4eac7f"
      },
      "outputs": [
        {
          "output_type": "execute_result",
          "data": {
            "text/plain": [
              "2769"
            ]
          },
          "metadata": {},
          "execution_count": 135
        }
      ],
      "source": [
        "#how many duplicates data\n",
        "df.duplicated().sum()"
      ]
    },
    {
      "cell_type": "code",
      "execution_count": 136,
      "metadata": {
        "id": "ctv7PwnqOUHA"
      },
      "outputs": [],
      "source": [
        "#remove duplicates \n",
        "df.drop_duplicates(inplace = True)"
      ]
    },
    {
      "cell_type": "code",
      "execution_count": 137,
      "metadata": {
        "colab": {
          "base_uri": "https://localhost:8080/"
        },
        "id": "k_du2pUNOXPh",
        "outputId": "b0a2a399-fcd0-4e2c-8216-caf13c09786f"
      },
      "outputs": [
        {
          "output_type": "execute_result",
          "data": {
            "text/plain": [
              "(10917, 2)"
            ]
          },
          "metadata": {},
          "execution_count": 137
        }
      ],
      "source": [
        "df.shape"
      ]
    },
    {
      "cell_type": "code",
      "execution_count": 138,
      "metadata": {
        "colab": {
          "base_uri": "https://localhost:8080/"
        },
        "id": "CcTbNLtdOZ48",
        "outputId": "102d64c7-5c51-4aff-ff29-1c2acff85b50"
      },
      "outputs": [
        {
          "output_type": "execute_result",
          "data": {
            "text/plain": [
              "1    0.670789\n",
              "0    0.329211\n",
              "Name: Label, dtype: float64"
            ]
          },
          "metadata": {},
          "execution_count": 138
        }
      ],
      "source": [
        "#how many rows for each class after removing duplicates\n",
        "df['Label'].value_counts(normalize = True)"
      ]
    },
    {
      "cell_type": "code",
      "execution_count": 140,
      "metadata": {
        "colab": {
          "base_uri": "https://localhost:8080/",
          "height": 36
        },
        "id": "v06xFkD2Oc63",
        "outputId": "bf5714d6-cac3-49e8-8c85-ef067b3389d0"
      },
      "outputs": [
        {
          "output_type": "execute_result",
          "data": {
            "text/plain": [
              "'less svg gret less meta onload eql alert opbrk int cbrk gret less slsh meta gret'"
            ],
            "application/vnd.google.colaboratory.intrinsic+json": {
              "type": "string"
            }
          },
          "metadata": {},
          "execution_count": 140
        }
      ],
      "source": [
        "#tokenize function \n",
        "def tokenize(payload):\n",
        "    \n",
        "    tokens=payload.lower() #lower case all words\n",
        "\n",
        "    #dictionary for speical characters\n",
        "    Dict = { '<': 'less', '>': 'gret', '/': 'slsh', '=': 'eql', '\"': 'dqout',\n",
        "             ':': 'coln', '(': 'opbrk', ')': 'cbrk', '#': 'hash', '&': 'and',\n",
        "             '-': 'hyph', '_': 'udsc', '{': 'opcrl', '}': 'clcrl', '@': 'at',\n",
        "             '^': 'pow', '.': 'dot', '%': 'perc', '$': 'dolr', '!': 'exlm', \n",
        "             '*': 'all', ';': 'semicoln', '\\\\': 'bslsh', '`': 'backtik', ',': 'coma',\n",
        "             '‘': 'opapost', '’': 'capost', '+': 'plus', '~': 'tlde', '?': 'qusm',\n",
        "             '[': 'opbrnt', ']': 'cbrnt', '\\'': 'sqout', '|': 'pipe', '–': 'dhyph' }\n",
        "    \n",
        "    \n",
        "    #replace special characters with the corresponding words in the dictionary\n",
        "    for token in tokens:\n",
        "        if token in Dict:\n",
        "            Dict[token] = ' '+Dict[token]+' '\n",
        "            tokens=tokens.replace(token, Dict[token])\n",
        "        #regex for replacing integers with 'int'\n",
        "        elif re.search(\"^([0-9]+)$\", token):\n",
        "            tokens=tokens.replace(token, ' int ')\n",
        "    \n",
        "    #tokenize each payload \n",
        "    tokens=word_tokenize(tokens)\n",
        "    return \" \".join(tokens)\n",
        "\n",
        "\n",
        "#test the function        \n",
        "text = '<svg><meta onload=alert(1)></meta>'\n",
        "tokenize(text)"
      ]
    },
    {
      "cell_type": "code",
      "execution_count": 141,
      "metadata": {
        "id": "9FrFSvvsOyr_"
      },
      "outputs": [],
      "source": [
        "#add a new column (tokenized_payload) after applying tokenize function on 'Sentence' column\n",
        "df['tokenized_payload'] = df['Sentence'].apply(tokenize)"
      ]
    },
    {
      "cell_type": "code",
      "execution_count": 142,
      "metadata": {
        "id": "lyaZP84gO1Xg",
        "colab": {
          "base_uri": "https://localhost:8080/",
          "height": 206
        },
        "outputId": "b3b3bedc-37c1-43cb-f253-9aabe4ee4c37"
      },
      "outputs": [
        {
          "output_type": "execute_result",
          "data": {
            "text/plain": [
              "                                            Sentence  Label  \\\n",
              "0  <li><a href=\"/wiki/File:Socrates.png\" class=\"i...      0   \n",
              "1               <tt onmouseover=\"alert(1)\">test</tt>      1   \n",
              "2  \\t </span> <span class=\"reference-text\">Steeri...      0   \n",
              "3  \\t </span> <span class=\"reference-text\"><cite ...      0   \n",
              "4  \\t </span>. <a href=\"/wiki/Digital_object_iden...      0   \n",
              "\n",
              "                                   tokenized_payload  \n",
              "0  less li gret less a href eql dqout slsh wiki s...  \n",
              "1  less tt onmouseover eql dqout alert opbrk int ...  \n",
              "2  less slsh span gret less span class eql dqout ...  \n",
              "3  less slsh span gret less span class eql dqout ...  \n",
              "4  less slsh span gret dot less a href eql dqout ...  "
            ],
            "text/html": [
              "\n",
              "  <div id=\"df-dfa3f2bc-ff31-4641-8875-3c3566cb6ccd\">\n",
              "    <div class=\"colab-df-container\">\n",
              "      <div>\n",
              "<style scoped>\n",
              "    .dataframe tbody tr th:only-of-type {\n",
              "        vertical-align: middle;\n",
              "    }\n",
              "\n",
              "    .dataframe tbody tr th {\n",
              "        vertical-align: top;\n",
              "    }\n",
              "\n",
              "    .dataframe thead th {\n",
              "        text-align: right;\n",
              "    }\n",
              "</style>\n",
              "<table border=\"1\" class=\"dataframe\">\n",
              "  <thead>\n",
              "    <tr style=\"text-align: right;\">\n",
              "      <th></th>\n",
              "      <th>Sentence</th>\n",
              "      <th>Label</th>\n",
              "      <th>tokenized_payload</th>\n",
              "    </tr>\n",
              "  </thead>\n",
              "  <tbody>\n",
              "    <tr>\n",
              "      <th>0</th>\n",
              "      <td>&lt;li&gt;&lt;a href=\"/wiki/File:Socrates.png\" class=\"i...</td>\n",
              "      <td>0</td>\n",
              "      <td>less li gret less a href eql dqout slsh wiki s...</td>\n",
              "    </tr>\n",
              "    <tr>\n",
              "      <th>1</th>\n",
              "      <td>&lt;tt onmouseover=\"alert(1)\"&gt;test&lt;/tt&gt;</td>\n",
              "      <td>1</td>\n",
              "      <td>less tt onmouseover eql dqout alert opbrk int ...</td>\n",
              "    </tr>\n",
              "    <tr>\n",
              "      <th>2</th>\n",
              "      <td>\\t &lt;/span&gt; &lt;span class=\"reference-text\"&gt;Steeri...</td>\n",
              "      <td>0</td>\n",
              "      <td>less slsh span gret less span class eql dqout ...</td>\n",
              "    </tr>\n",
              "    <tr>\n",
              "      <th>3</th>\n",
              "      <td>\\t &lt;/span&gt; &lt;span class=\"reference-text\"&gt;&lt;cite ...</td>\n",
              "      <td>0</td>\n",
              "      <td>less slsh span gret less span class eql dqout ...</td>\n",
              "    </tr>\n",
              "    <tr>\n",
              "      <th>4</th>\n",
              "      <td>\\t &lt;/span&gt;. &lt;a href=\"/wiki/Digital_object_iden...</td>\n",
              "      <td>0</td>\n",
              "      <td>less slsh span gret dot less a href eql dqout ...</td>\n",
              "    </tr>\n",
              "  </tbody>\n",
              "</table>\n",
              "</div>\n",
              "      <button class=\"colab-df-convert\" onclick=\"convertToInteractive('df-dfa3f2bc-ff31-4641-8875-3c3566cb6ccd')\"\n",
              "              title=\"Convert this dataframe to an interactive table.\"\n",
              "              style=\"display:none;\">\n",
              "        \n",
              "  <svg xmlns=\"http://www.w3.org/2000/svg\" height=\"24px\"viewBox=\"0 0 24 24\"\n",
              "       width=\"24px\">\n",
              "    <path d=\"M0 0h24v24H0V0z\" fill=\"none\"/>\n",
              "    <path d=\"M18.56 5.44l.94 2.06.94-2.06 2.06-.94-2.06-.94-.94-2.06-.94 2.06-2.06.94zm-11 1L8.5 8.5l.94-2.06 2.06-.94-2.06-.94L8.5 2.5l-.94 2.06-2.06.94zm10 10l.94 2.06.94-2.06 2.06-.94-2.06-.94-.94-2.06-.94 2.06-2.06.94z\"/><path d=\"M17.41 7.96l-1.37-1.37c-.4-.4-.92-.59-1.43-.59-.52 0-1.04.2-1.43.59L10.3 9.45l-7.72 7.72c-.78.78-.78 2.05 0 2.83L4 21.41c.39.39.9.59 1.41.59.51 0 1.02-.2 1.41-.59l7.78-7.78 2.81-2.81c.8-.78.8-2.07 0-2.86zM5.41 20L4 18.59l7.72-7.72 1.47 1.35L5.41 20z\"/>\n",
              "  </svg>\n",
              "      </button>\n",
              "      \n",
              "  <style>\n",
              "    .colab-df-container {\n",
              "      display:flex;\n",
              "      flex-wrap:wrap;\n",
              "      gap: 12px;\n",
              "    }\n",
              "\n",
              "    .colab-df-convert {\n",
              "      background-color: #E8F0FE;\n",
              "      border: none;\n",
              "      border-radius: 50%;\n",
              "      cursor: pointer;\n",
              "      display: none;\n",
              "      fill: #1967D2;\n",
              "      height: 32px;\n",
              "      padding: 0 0 0 0;\n",
              "      width: 32px;\n",
              "    }\n",
              "\n",
              "    .colab-df-convert:hover {\n",
              "      background-color: #E2EBFA;\n",
              "      box-shadow: 0px 1px 2px rgba(60, 64, 67, 0.3), 0px 1px 3px 1px rgba(60, 64, 67, 0.15);\n",
              "      fill: #174EA6;\n",
              "    }\n",
              "\n",
              "    [theme=dark] .colab-df-convert {\n",
              "      background-color: #3B4455;\n",
              "      fill: #D2E3FC;\n",
              "    }\n",
              "\n",
              "    [theme=dark] .colab-df-convert:hover {\n",
              "      background-color: #434B5C;\n",
              "      box-shadow: 0px 1px 3px 1px rgba(0, 0, 0, 0.15);\n",
              "      filter: drop-shadow(0px 1px 2px rgba(0, 0, 0, 0.3));\n",
              "      fill: #FFFFFF;\n",
              "    }\n",
              "  </style>\n",
              "\n",
              "      <script>\n",
              "        const buttonEl =\n",
              "          document.querySelector('#df-dfa3f2bc-ff31-4641-8875-3c3566cb6ccd button.colab-df-convert');\n",
              "        buttonEl.style.display =\n",
              "          google.colab.kernel.accessAllowed ? 'block' : 'none';\n",
              "\n",
              "        async function convertToInteractive(key) {\n",
              "          const element = document.querySelector('#df-dfa3f2bc-ff31-4641-8875-3c3566cb6ccd');\n",
              "          const dataTable =\n",
              "            await google.colab.kernel.invokeFunction('convertToInteractive',\n",
              "                                                     [key], {});\n",
              "          if (!dataTable) return;\n",
              "\n",
              "          const docLinkHtml = 'Like what you see? Visit the ' +\n",
              "            '<a target=\"_blank\" href=https://colab.research.google.com/notebooks/data_table.ipynb>data table notebook</a>'\n",
              "            + ' to learn more about interactive tables.';\n",
              "          element.innerHTML = '';\n",
              "          dataTable['output_type'] = 'display_data';\n",
              "          await google.colab.output.renderOutput(dataTable, element);\n",
              "          const docLink = document.createElement('div');\n",
              "          docLink.innerHTML = docLinkHtml;\n",
              "          element.appendChild(docLink);\n",
              "        }\n",
              "      </script>\n",
              "    </div>\n",
              "  </div>\n",
              "  "
            ]
          },
          "metadata": {},
          "execution_count": 142
        }
      ],
      "source": [
        "df.head()"
      ]
    },
    {
      "cell_type": "code",
      "execution_count": 143,
      "metadata": {
        "id": "nUxgHw9vO7Y_"
      },
      "outputs": [],
      "source": [
        "tokenized_payloads = df['tokenized_payload']"
      ]
    },
    {
      "cell_type": "code",
      "execution_count": null,
      "metadata": {
        "id": "1Pp3tlbSO9Ux",
        "colab": {
          "base_uri": "https://localhost:8080/"
        },
        "outputId": "089b7688-9e6c-4222-d991-ed6aa0d02e12"
      },
      "outputs": [
        {
          "output_type": "execute_result",
          "data": {
            "text/plain": [
              "0        less li gret less a href eql dqout slsh wiki s...\n",
              "1        less tt onmouseover eql dqout alert opbrk int ...\n",
              "2        less slsh span gret less span class eql dqout ...\n",
              "3        less slsh span gret less span class eql dqout ...\n",
              "4        less slsh span gret dot less a href eql dqout ...\n",
              "                               ...                        \n",
              "13678    less li gret less a href eql dqout slsh wiki s...\n",
              "13681    less img onpointerenter eql alert opbrk int cb...\n",
              "13682    less source onbeforepaste eql dqout alert opbr...\n",
              "13683    less div draggable eql dqout true dqout conten...\n",
              "13684    less li gret less cite id eql dqout citerefdom...\n",
              "Name: tokenized_payload, Length: 10917, dtype: object"
            ]
          },
          "metadata": {},
          "execution_count": 95
        }
      ],
      "source": [
        "tokenized_payloads"
      ]
    },
    {
      "cell_type": "markdown",
      "source": [
        "**Logistic Regression Classifier**"
      ],
      "metadata": {
        "id": "sR9SfSs2YFEN"
      }
    },
    {
      "cell_type": "code",
      "execution_count": null,
      "metadata": {
        "id": "zYH5GorNKN6s",
        "colab": {
          "base_uri": "https://localhost:8080/"
        },
        "outputId": "195d3a84-0d2a-4abb-893c-cb97ae1f8c4b"
      },
      "outputs": [
        {
          "output_type": "stream",
          "name": "stdout",
          "text": [
            "Accuracy: 99.77106227106228\n",
            "              precision    recall  f1-score   support\n",
            "\n",
            "           0       1.00      1.00      1.00       719\n",
            "           1       1.00      1.00      1.00      1465\n",
            "\n",
            "    accuracy                           1.00      2184\n",
            "   macro avg       1.00      1.00      1.00      2184\n",
            "weighted avg       1.00      1.00      1.00      2184\n",
            "\n",
            "[[ 717    2]\n",
            " [   3 1462]]\n"
          ]
        }
      ],
      "source": [
        "#splitting dataset into training and testing \n",
        "X = df['tokenized_payload']\n",
        "y = df['Label']\n",
        "\n",
        "X_train, X_test, y_train, y_test = train_test_split(X, y,test_size=0.2, random_state=42, shuffle=True, stratify=y)\n",
        "\n",
        "#creating the model\n",
        "model = LogisticRegression()\n",
        "\n",
        "#word embedding\n",
        "pipeline_model = Pipeline([('vect', CountVectorizer()),\n",
        "                              ('tfidf', TfidfTransformer()),\n",
        "                              ('clf', model)])\n",
        "\n",
        "#train the model\n",
        "pipeline_model.fit(X_train, y_train)\n",
        "\n",
        "#testing and calculating the accuracy\n",
        "print('Accuracy:', pipeline_model.score(X_test, y_test)*100)\n",
        "\n",
        "#prediction\n",
        "y_pred = pipeline_model.predict(X_test)\n",
        "\n",
        "#print classification report\n",
        "print(classification_report(y_test, y_pred))\n",
        "\n",
        "#confusion matrex\n",
        "conf_matrix = confusion_matrix(y_true=y_test, y_pred=y_pred)\n",
        "print(conf_matrix)"
      ]
    },
    {
      "cell_type": "markdown",
      "source": [
        "**Naive Bayes Classifier**"
      ],
      "metadata": {
        "id": "4r5JukAvYyZG"
      }
    },
    {
      "cell_type": "code",
      "execution_count": 144,
      "metadata": {
        "id": "MS6POO12PFKa",
        "colab": {
          "base_uri": "https://localhost:8080/"
        },
        "outputId": "d1d0b6c1-875b-46c4-d0fa-a3c59ddb41cd"
      },
      "outputs": [
        {
          "output_type": "stream",
          "name": "stdout",
          "text": [
            "Accuracy: 98.3974358974359\n",
            "              precision    recall  f1-score   support\n",
            "\n",
            "           0       0.99      0.96      0.98       719\n",
            "           1       0.98      1.00      0.99      1465\n",
            "\n",
            "    accuracy                           0.98      2184\n",
            "   macro avg       0.99      0.98      0.98      2184\n",
            "weighted avg       0.98      0.98      0.98      2184\n",
            "\n",
            "[[ 689   30]\n",
            " [   5 1460]]\n"
          ]
        }
      ],
      "source": [
        "\n",
        "#creating the model\n",
        "naive_bayes_model = MultinomialNB()\n",
        "\n",
        "#word embedding\n",
        "pipeline_naive_bayes_model = Pipeline([('vect', CountVectorizer()),\n",
        "                              ('tfidf', TfidfTransformer()),\n",
        "                              ('clf', naive_bayes_model)])\n",
        "\n",
        "#train the model\n",
        "pipeline_naive_bayes_model.fit(X_train, y_train)\n",
        "\n",
        "#testing and calculating the accuracy\n",
        "print('Accuracy:', pipeline_naive_bayes_model.score(X_test, y_test)*100)\n",
        "\n",
        "#prediction\n",
        "y_pred_naive_bayes_model = pipeline_naive_bayes_model.predict(X_test)\n",
        "\n",
        "#print classification report\n",
        "print(classification_report(y_test, y_pred_naive_bayes_model))\n",
        "\n",
        "nb_conf_matrix = confusion_matrix(y_true=y_test, y_pred=y_pred_naive_bayes_model)\n",
        "print(nb_conf_matrix)\n",
        "\n"
      ]
    },
    {
      "cell_type": "markdown",
      "source": [
        "**Support Vector Machine Classifier**"
      ],
      "metadata": {
        "id": "0em5lfRQZW-b"
      }
    },
    {
      "cell_type": "code",
      "execution_count": 145,
      "metadata": {
        "id": "bAJyhx8fQGU8",
        "colab": {
          "base_uri": "https://localhost:8080/"
        },
        "outputId": "b9bbd733-9608-485b-cda2-530f64c9e7ca"
      },
      "outputs": [
        {
          "output_type": "stream",
          "name": "stdout",
          "text": [
            "Accuracy: 99.86263736263736\n",
            "              precision    recall  f1-score   support\n",
            "\n",
            "           0       1.00      1.00      1.00       719\n",
            "           1       1.00      1.00      1.00      1465\n",
            "\n",
            "    accuracy                           1.00      2184\n",
            "   macro avg       1.00      1.00      1.00      2184\n",
            "weighted avg       1.00      1.00      1.00      2184\n",
            "\n",
            "[[ 718    1]\n",
            " [   2 1463]]\n"
          ]
        }
      ],
      "source": [
        "\n",
        "SVC_model = SVC()\n",
        "\n",
        "pipeline_SVC_model = Pipeline([('vect', CountVectorizer()),\n",
        "                              ('tfidf', TfidfTransformer()),\n",
        "                              ('clf', SVC_model)])\n",
        "\n",
        "pipeline_SVC_model.fit(X_train, y_train)\n",
        "\n",
        "print('Accuracy:', pipeline_SVC_model.score(X_test, y_test)*100)\n",
        "\n",
        "y_SVC_pred = pipeline_SVC_model.predict(X_test)\n",
        "\n",
        "print(classification_report(y_test, y_SVC_pred))\n",
        "\n",
        "svc_conf_matrix = confusion_matrix(y_true=y_test, y_pred=y_SVC_pred)\n",
        "print(svc_conf_matrix)"
      ]
    },
    {
      "cell_type": "markdown",
      "source": [
        "**Random Forest Classifier**"
      ],
      "metadata": {
        "id": "hjuZd337Ze9C"
      }
    },
    {
      "cell_type": "code",
      "execution_count": null,
      "metadata": {
        "id": "ToQOpzQWQN3o",
        "colab": {
          "base_uri": "https://localhost:8080/"
        },
        "outputId": "75eff7ad-f86d-4fb5-821c-27c795193b0a"
      },
      "outputs": [
        {
          "output_type": "stream",
          "name": "stdout",
          "text": [
            "Accuracy: 99.77106227106228\n",
            "              precision    recall  f1-score   support\n",
            "\n",
            "           0       0.99      1.00      1.00       719\n",
            "           1       1.00      1.00      1.00      1465\n",
            "\n",
            "    accuracy                           1.00      2184\n",
            "   macro avg       1.00      1.00      1.00      2184\n",
            "weighted avg       1.00      1.00      1.00      2184\n",
            "\n",
            "[[ 718    1]\n",
            " [   4 1461]]\n"
          ]
        }
      ],
      "source": [
        "\n",
        "RF_model = RandomForestClassifier()\n",
        "\n",
        "pipeline_RF_model = Pipeline([('vect', CountVectorizer()),\n",
        "                              ('tfidf', TfidfTransformer()),\n",
        "                              ('clf', RF_model)])\n",
        "\n",
        "pipeline_RF_model.fit(X_train, y_train)\n",
        "\n",
        "print('Accuracy:', pipeline_RF_model.score(X_test, y_test)*100)\n",
        "\n",
        "y_RF_pred = pipeline_RF_model.predict(X_test)\n",
        "\n",
        "print(classification_report(y_test, y_RF_pred))\n",
        "\n",
        "rf_conf_matrix = confusion_matrix(y_true=y_test, y_pred=y_RF_pred)\n",
        "print(rf_conf_matrix)"
      ]
    },
    {
      "cell_type": "markdown",
      "source": [
        "**Decision Tree Classifier**"
      ],
      "metadata": {
        "id": "eN7NSUQkZrI8"
      }
    },
    {
      "cell_type": "code",
      "execution_count": null,
      "metadata": {
        "id": "FTgTFBUpQPgS",
        "colab": {
          "base_uri": "https://localhost:8080/"
        },
        "outputId": "71abe2c8-273d-4732-a22b-57ab68a5e38e"
      },
      "outputs": [
        {
          "output_type": "stream",
          "name": "stdout",
          "text": [
            "Accuracy: 99.58791208791209\n",
            "              precision    recall  f1-score   support\n",
            "\n",
            "           0       0.99      1.00      0.99       719\n",
            "           1       1.00      1.00      1.00      1465\n",
            "\n",
            "    accuracy                           1.00      2184\n",
            "   macro avg       0.99      1.00      1.00      2184\n",
            "weighted avg       1.00      1.00      1.00      2184\n",
            "\n",
            "[[ 717    2]\n",
            " [   7 1458]]\n"
          ]
        }
      ],
      "source": [
        "\n",
        "DT_model = DecisionTreeClassifier()\n",
        "\n",
        "\n",
        "#word embedding\n",
        "pipeline_DT_model = Pipeline([('vect', CountVectorizer()),\n",
        "                              ('tfidf', TfidfTransformer()),\n",
        "                              ('clf', DT_model)])\n",
        "\n",
        "pipeline_DT_model.fit(X_train, y_train) #train the model\n",
        "\n",
        "#testing and calculating the accuracy\n",
        "print('Accuracy:', pipeline_DT_model.score(X_test, y_test)*100)\n",
        "\n",
        "#predicting\n",
        "y_DT_pred = pipeline_DT_model.predict(X_test)\n",
        "\n",
        "print(classification_report(y_test, y_DT_pred))\n",
        "\n",
        "dt_conf_matrix = confusion_matrix(y_true=y_test, y_pred=y_DT_pred)\n",
        "print(dt_conf_matrix)"
      ]
    },
    {
      "cell_type": "markdown",
      "source": [
        "**FastText Model**"
      ],
      "metadata": {
        "id": "hh9a8lAEIDGE"
      }
    },
    {
      "cell_type": "code",
      "execution_count": 146,
      "metadata": {
        "id": "6SxFLWyms9JD"
      },
      "outputs": [],
      "source": [
        "#splitting dataset into training and testing\n",
        "train, test = train_test_split(df, test_size=0.2, random_state=42, shuffle=True, stratify=y)\n",
        "#save in csv files\n",
        "train.to_csv('/content/train.csv',index=False)\n",
        "test.to_csv('/content/test.csv',index=False)"
      ]
    },
    {
      "cell_type": "code",
      "execution_count": null,
      "metadata": {
        "id": "FbYYTTrWtnJo"
      },
      "outputs": [],
      "source": [
        "#read csv files\n",
        "train = pd.read_csv(\"/content/train.csv\")\n",
        "test = pd.read_csv(\"/content/test.csv\")"
      ]
    },
    {
      "cell_type": "code",
      "execution_count": 147,
      "metadata": {
        "id": "gMKqSm0gu_gC",
        "colab": {
          "base_uri": "https://localhost:8080/",
          "height": 206
        },
        "outputId": "db1ca4cb-ad1b-4acd-d542-1e3390cb61d4"
      },
      "outputs": [
        {
          "output_type": "execute_result",
          "data": {
            "text/plain": [
              "                                               Sentence  Label  \\\n",
              "4236  <li class=\"toctree-l1\"><a class=\"reference int...      0   \n",
              "4978  <div draggable=\"true\" contenteditable>drag me<...      1   \n",
              "9320  <button draggable=\"true\" ondragleave=\"alert(1)...      1   \n",
              "2551               <map onpointerout=alert(1)>XSS</map>      1   \n",
              "60      <!DOCTYPE html><html class=\"no-js\" lang=\"en\" >       0   \n",
              "\n",
              "                                      tokenized_payload  \n",
              "4236  less li class eql dqout toctree hyph l int dqo...  \n",
              "4978  less div draggable eql dqout true dqout conten...  \n",
              "9320  less button draggable eql dqout true dqout ond...  \n",
              "2551  less map onpointerout eql alert opbrk int cbrk...  \n",
              "60    less exlm doctype html gret less html class eq...  "
            ],
            "text/html": [
              "\n",
              "  <div id=\"df-7b653dce-34ca-422f-b42e-b3c25b31296b\">\n",
              "    <div class=\"colab-df-container\">\n",
              "      <div>\n",
              "<style scoped>\n",
              "    .dataframe tbody tr th:only-of-type {\n",
              "        vertical-align: middle;\n",
              "    }\n",
              "\n",
              "    .dataframe tbody tr th {\n",
              "        vertical-align: top;\n",
              "    }\n",
              "\n",
              "    .dataframe thead th {\n",
              "        text-align: right;\n",
              "    }\n",
              "</style>\n",
              "<table border=\"1\" class=\"dataframe\">\n",
              "  <thead>\n",
              "    <tr style=\"text-align: right;\">\n",
              "      <th></th>\n",
              "      <th>Sentence</th>\n",
              "      <th>Label</th>\n",
              "      <th>tokenized_payload</th>\n",
              "    </tr>\n",
              "  </thead>\n",
              "  <tbody>\n",
              "    <tr>\n",
              "      <th>4236</th>\n",
              "      <td>&lt;li class=\"toctree-l1\"&gt;&lt;a class=\"reference int...</td>\n",
              "      <td>0</td>\n",
              "      <td>less li class eql dqout toctree hyph l int dqo...</td>\n",
              "    </tr>\n",
              "    <tr>\n",
              "      <th>4978</th>\n",
              "      <td>&lt;div draggable=\"true\" contenteditable&gt;drag me&lt;...</td>\n",
              "      <td>1</td>\n",
              "      <td>less div draggable eql dqout true dqout conten...</td>\n",
              "    </tr>\n",
              "    <tr>\n",
              "      <th>9320</th>\n",
              "      <td>&lt;button draggable=\"true\" ondragleave=\"alert(1)...</td>\n",
              "      <td>1</td>\n",
              "      <td>less button draggable eql dqout true dqout ond...</td>\n",
              "    </tr>\n",
              "    <tr>\n",
              "      <th>2551</th>\n",
              "      <td>&lt;map onpointerout=alert(1)&gt;XSS&lt;/map&gt;</td>\n",
              "      <td>1</td>\n",
              "      <td>less map onpointerout eql alert opbrk int cbrk...</td>\n",
              "    </tr>\n",
              "    <tr>\n",
              "      <th>60</th>\n",
              "      <td>&lt;!DOCTYPE html&gt;&lt;html class=\"no-js\" lang=\"en\" &gt;</td>\n",
              "      <td>0</td>\n",
              "      <td>less exlm doctype html gret less html class eq...</td>\n",
              "    </tr>\n",
              "  </tbody>\n",
              "</table>\n",
              "</div>\n",
              "      <button class=\"colab-df-convert\" onclick=\"convertToInteractive('df-7b653dce-34ca-422f-b42e-b3c25b31296b')\"\n",
              "              title=\"Convert this dataframe to an interactive table.\"\n",
              "              style=\"display:none;\">\n",
              "        \n",
              "  <svg xmlns=\"http://www.w3.org/2000/svg\" height=\"24px\"viewBox=\"0 0 24 24\"\n",
              "       width=\"24px\">\n",
              "    <path d=\"M0 0h24v24H0V0z\" fill=\"none\"/>\n",
              "    <path d=\"M18.56 5.44l.94 2.06.94-2.06 2.06-.94-2.06-.94-.94-2.06-.94 2.06-2.06.94zm-11 1L8.5 8.5l.94-2.06 2.06-.94-2.06-.94L8.5 2.5l-.94 2.06-2.06.94zm10 10l.94 2.06.94-2.06 2.06-.94-2.06-.94-.94-2.06-.94 2.06-2.06.94z\"/><path d=\"M17.41 7.96l-1.37-1.37c-.4-.4-.92-.59-1.43-.59-.52 0-1.04.2-1.43.59L10.3 9.45l-7.72 7.72c-.78.78-.78 2.05 0 2.83L4 21.41c.39.39.9.59 1.41.59.51 0 1.02-.2 1.41-.59l7.78-7.78 2.81-2.81c.8-.78.8-2.07 0-2.86zM5.41 20L4 18.59l7.72-7.72 1.47 1.35L5.41 20z\"/>\n",
              "  </svg>\n",
              "      </button>\n",
              "      \n",
              "  <style>\n",
              "    .colab-df-container {\n",
              "      display:flex;\n",
              "      flex-wrap:wrap;\n",
              "      gap: 12px;\n",
              "    }\n",
              "\n",
              "    .colab-df-convert {\n",
              "      background-color: #E8F0FE;\n",
              "      border: none;\n",
              "      border-radius: 50%;\n",
              "      cursor: pointer;\n",
              "      display: none;\n",
              "      fill: #1967D2;\n",
              "      height: 32px;\n",
              "      padding: 0 0 0 0;\n",
              "      width: 32px;\n",
              "    }\n",
              "\n",
              "    .colab-df-convert:hover {\n",
              "      background-color: #E2EBFA;\n",
              "      box-shadow: 0px 1px 2px rgba(60, 64, 67, 0.3), 0px 1px 3px 1px rgba(60, 64, 67, 0.15);\n",
              "      fill: #174EA6;\n",
              "    }\n",
              "\n",
              "    [theme=dark] .colab-df-convert {\n",
              "      background-color: #3B4455;\n",
              "      fill: #D2E3FC;\n",
              "    }\n",
              "\n",
              "    [theme=dark] .colab-df-convert:hover {\n",
              "      background-color: #434B5C;\n",
              "      box-shadow: 0px 1px 3px 1px rgba(0, 0, 0, 0.15);\n",
              "      filter: drop-shadow(0px 1px 2px rgba(0, 0, 0, 0.3));\n",
              "      fill: #FFFFFF;\n",
              "    }\n",
              "  </style>\n",
              "\n",
              "      <script>\n",
              "        const buttonEl =\n",
              "          document.querySelector('#df-7b653dce-34ca-422f-b42e-b3c25b31296b button.colab-df-convert');\n",
              "        buttonEl.style.display =\n",
              "          google.colab.kernel.accessAllowed ? 'block' : 'none';\n",
              "\n",
              "        async function convertToInteractive(key) {\n",
              "          const element = document.querySelector('#df-7b653dce-34ca-422f-b42e-b3c25b31296b');\n",
              "          const dataTable =\n",
              "            await google.colab.kernel.invokeFunction('convertToInteractive',\n",
              "                                                     [key], {});\n",
              "          if (!dataTable) return;\n",
              "\n",
              "          const docLinkHtml = 'Like what you see? Visit the ' +\n",
              "            '<a target=\"_blank\" href=https://colab.research.google.com/notebooks/data_table.ipynb>data table notebook</a>'\n",
              "            + ' to learn more about interactive tables.';\n",
              "          element.innerHTML = '';\n",
              "          dataTable['output_type'] = 'display_data';\n",
              "          await google.colab.output.renderOutput(dataTable, element);\n",
              "          const docLink = document.createElement('div');\n",
              "          docLink.innerHTML = docLinkHtml;\n",
              "          element.appendChild(docLink);\n",
              "        }\n",
              "      </script>\n",
              "    </div>\n",
              "  </div>\n",
              "  "
            ]
          },
          "metadata": {},
          "execution_count": 147
        }
      ],
      "source": [
        "train.head()"
      ]
    },
    {
      "cell_type": "code",
      "execution_count": null,
      "metadata": {
        "id": "x0gHDC6WwJev",
        "colab": {
          "base_uri": "https://localhost:8080/"
        },
        "outputId": "84cf703c-3f51-4f8f-b8cd-5ff5ec9a99ef"
      },
      "outputs": [
        {
          "output_type": "execute_result",
          "data": {
            "text/plain": [
              "0       <li class=\"toctree-l1\"><a class=\"reference int...\n",
              "1       <div draggable=\"true\" contenteditable>drag me<...\n",
              "2       <button draggable=\"true\" ondragleave=\"alert(1)...\n",
              "3                    <map onpointerout=alert(1)>XSS</map>\n",
              "4         <!DOCTYPE html><html class=\"no-js\" lang=\"en\" > \n",
              "                              ...                        \n",
              "8728    <style>:target {transform: rotate(180deg);}</s...\n",
              "8729    <menuitem id=x tabindex=1 onfocus=alert(1)></m...\n",
              "8730    <li><cite id=\"CITEREFMaker2006\" class=\"citatio...\n",
              "8731                   <s onmousemove=\"alert(1)\">test</s>\n",
              "8732    <font id=x tabindex=1 onactivate=alert(1)></font>\n",
              "Name: Sentence, Length: 8733, dtype: object"
            ]
          },
          "metadata": {},
          "execution_count": 104
        }
      ],
      "source": [
        "#remove 'Sentence' column\n",
        "train.pop('Sentence')"
      ]
    },
    {
      "cell_type": "code",
      "execution_count": null,
      "metadata": {
        "id": "gw07FnEFwSA-",
        "colab": {
          "base_uri": "https://localhost:8080/",
          "height": 206
        },
        "outputId": "1b3da2bd-5a17-495f-a833-416ee4d6d579"
      },
      "outputs": [
        {
          "output_type": "execute_result",
          "data": {
            "text/plain": [
              "   Label                                  tokenized_payload\n",
              "0      0  less li class eql dqout toctree hyph l int dqo...\n",
              "1      1  less div draggable eql dqout true dqout conten...\n",
              "2      1  less button draggable eql dqout true dqout ond...\n",
              "3      1  less map onpointerout eql alert opbrk int cbrk...\n",
              "4      0  less exlm doctype html gret less html class eq..."
            ],
            "text/html": [
              "\n",
              "  <div id=\"df-c5407a39-8ef4-4482-a9f8-7915409cce1b\">\n",
              "    <div class=\"colab-df-container\">\n",
              "      <div>\n",
              "<style scoped>\n",
              "    .dataframe tbody tr th:only-of-type {\n",
              "        vertical-align: middle;\n",
              "    }\n",
              "\n",
              "    .dataframe tbody tr th {\n",
              "        vertical-align: top;\n",
              "    }\n",
              "\n",
              "    .dataframe thead th {\n",
              "        text-align: right;\n",
              "    }\n",
              "</style>\n",
              "<table border=\"1\" class=\"dataframe\">\n",
              "  <thead>\n",
              "    <tr style=\"text-align: right;\">\n",
              "      <th></th>\n",
              "      <th>Label</th>\n",
              "      <th>tokenized_payload</th>\n",
              "    </tr>\n",
              "  </thead>\n",
              "  <tbody>\n",
              "    <tr>\n",
              "      <th>0</th>\n",
              "      <td>0</td>\n",
              "      <td>less li class eql dqout toctree hyph l int dqo...</td>\n",
              "    </tr>\n",
              "    <tr>\n",
              "      <th>1</th>\n",
              "      <td>1</td>\n",
              "      <td>less div draggable eql dqout true dqout conten...</td>\n",
              "    </tr>\n",
              "    <tr>\n",
              "      <th>2</th>\n",
              "      <td>1</td>\n",
              "      <td>less button draggable eql dqout true dqout ond...</td>\n",
              "    </tr>\n",
              "    <tr>\n",
              "      <th>3</th>\n",
              "      <td>1</td>\n",
              "      <td>less map onpointerout eql alert opbrk int cbrk...</td>\n",
              "    </tr>\n",
              "    <tr>\n",
              "      <th>4</th>\n",
              "      <td>0</td>\n",
              "      <td>less exlm doctype html gret less html class eq...</td>\n",
              "    </tr>\n",
              "  </tbody>\n",
              "</table>\n",
              "</div>\n",
              "      <button class=\"colab-df-convert\" onclick=\"convertToInteractive('df-c5407a39-8ef4-4482-a9f8-7915409cce1b')\"\n",
              "              title=\"Convert this dataframe to an interactive table.\"\n",
              "              style=\"display:none;\">\n",
              "        \n",
              "  <svg xmlns=\"http://www.w3.org/2000/svg\" height=\"24px\"viewBox=\"0 0 24 24\"\n",
              "       width=\"24px\">\n",
              "    <path d=\"M0 0h24v24H0V0z\" fill=\"none\"/>\n",
              "    <path d=\"M18.56 5.44l.94 2.06.94-2.06 2.06-.94-2.06-.94-.94-2.06-.94 2.06-2.06.94zm-11 1L8.5 8.5l.94-2.06 2.06-.94-2.06-.94L8.5 2.5l-.94 2.06-2.06.94zm10 10l.94 2.06.94-2.06 2.06-.94-2.06-.94-.94-2.06-.94 2.06-2.06.94z\"/><path d=\"M17.41 7.96l-1.37-1.37c-.4-.4-.92-.59-1.43-.59-.52 0-1.04.2-1.43.59L10.3 9.45l-7.72 7.72c-.78.78-.78 2.05 0 2.83L4 21.41c.39.39.9.59 1.41.59.51 0 1.02-.2 1.41-.59l7.78-7.78 2.81-2.81c.8-.78.8-2.07 0-2.86zM5.41 20L4 18.59l7.72-7.72 1.47 1.35L5.41 20z\"/>\n",
              "  </svg>\n",
              "      </button>\n",
              "      \n",
              "  <style>\n",
              "    .colab-df-container {\n",
              "      display:flex;\n",
              "      flex-wrap:wrap;\n",
              "      gap: 12px;\n",
              "    }\n",
              "\n",
              "    .colab-df-convert {\n",
              "      background-color: #E8F0FE;\n",
              "      border: none;\n",
              "      border-radius: 50%;\n",
              "      cursor: pointer;\n",
              "      display: none;\n",
              "      fill: #1967D2;\n",
              "      height: 32px;\n",
              "      padding: 0 0 0 0;\n",
              "      width: 32px;\n",
              "    }\n",
              "\n",
              "    .colab-df-convert:hover {\n",
              "      background-color: #E2EBFA;\n",
              "      box-shadow: 0px 1px 2px rgba(60, 64, 67, 0.3), 0px 1px 3px 1px rgba(60, 64, 67, 0.15);\n",
              "      fill: #174EA6;\n",
              "    }\n",
              "\n",
              "    [theme=dark] .colab-df-convert {\n",
              "      background-color: #3B4455;\n",
              "      fill: #D2E3FC;\n",
              "    }\n",
              "\n",
              "    [theme=dark] .colab-df-convert:hover {\n",
              "      background-color: #434B5C;\n",
              "      box-shadow: 0px 1px 3px 1px rgba(0, 0, 0, 0.15);\n",
              "      filter: drop-shadow(0px 1px 2px rgba(0, 0, 0, 0.3));\n",
              "      fill: #FFFFFF;\n",
              "    }\n",
              "  </style>\n",
              "\n",
              "      <script>\n",
              "        const buttonEl =\n",
              "          document.querySelector('#df-c5407a39-8ef4-4482-a9f8-7915409cce1b button.colab-df-convert');\n",
              "        buttonEl.style.display =\n",
              "          google.colab.kernel.accessAllowed ? 'block' : 'none';\n",
              "\n",
              "        async function convertToInteractive(key) {\n",
              "          const element = document.querySelector('#df-c5407a39-8ef4-4482-a9f8-7915409cce1b');\n",
              "          const dataTable =\n",
              "            await google.colab.kernel.invokeFunction('convertToInteractive',\n",
              "                                                     [key], {});\n",
              "          if (!dataTable) return;\n",
              "\n",
              "          const docLinkHtml = 'Like what you see? Visit the ' +\n",
              "            '<a target=\"_blank\" href=https://colab.research.google.com/notebooks/data_table.ipynb>data table notebook</a>'\n",
              "            + ' to learn more about interactive tables.';\n",
              "          element.innerHTML = '';\n",
              "          dataTable['output_type'] = 'display_data';\n",
              "          await google.colab.output.renderOutput(dataTable, element);\n",
              "          const docLink = document.createElement('div');\n",
              "          docLink.innerHTML = docLinkHtml;\n",
              "          element.appendChild(docLink);\n",
              "        }\n",
              "      </script>\n",
              "    </div>\n",
              "  </div>\n",
              "  "
            ]
          },
          "metadata": {},
          "execution_count": 105
        }
      ],
      "source": [
        "train.head()"
      ]
    },
    {
      "cell_type": "code",
      "execution_count": null,
      "metadata": {
        "id": "2fSG_Sb6wlN8"
      },
      "outputs": [],
      "source": [
        "#add __label__ \n",
        "train['Label'] = train['Label'].map({0:'__label__Nonmalicious', 1:'__label__Malicious'})"
      ]
    },
    {
      "cell_type": "code",
      "execution_count": null,
      "metadata": {
        "id": "qHARWjjMxI0Z",
        "colab": {
          "base_uri": "https://localhost:8080/",
          "height": 206
        },
        "outputId": "6b9a098b-2e91-4f1b-bba4-6c3a7c206b4b"
      },
      "outputs": [
        {
          "output_type": "execute_result",
          "data": {
            "text/plain": [
              "                   Label                                  tokenized_payload\n",
              "0  __label__Nonmalicious  less li class eql dqout toctree hyph l int dqo...\n",
              "1     __label__Malicious  less div draggable eql dqout true dqout conten...\n",
              "2     __label__Malicious  less button draggable eql dqout true dqout ond...\n",
              "3     __label__Malicious  less map onpointerout eql alert opbrk int cbrk...\n",
              "4  __label__Nonmalicious  less exlm doctype html gret less html class eq..."
            ],
            "text/html": [
              "\n",
              "  <div id=\"df-d825b364-a0ab-42f4-8848-be62ccaa25c5\">\n",
              "    <div class=\"colab-df-container\">\n",
              "      <div>\n",
              "<style scoped>\n",
              "    .dataframe tbody tr th:only-of-type {\n",
              "        vertical-align: middle;\n",
              "    }\n",
              "\n",
              "    .dataframe tbody tr th {\n",
              "        vertical-align: top;\n",
              "    }\n",
              "\n",
              "    .dataframe thead th {\n",
              "        text-align: right;\n",
              "    }\n",
              "</style>\n",
              "<table border=\"1\" class=\"dataframe\">\n",
              "  <thead>\n",
              "    <tr style=\"text-align: right;\">\n",
              "      <th></th>\n",
              "      <th>Label</th>\n",
              "      <th>tokenized_payload</th>\n",
              "    </tr>\n",
              "  </thead>\n",
              "  <tbody>\n",
              "    <tr>\n",
              "      <th>0</th>\n",
              "      <td>__label__Nonmalicious</td>\n",
              "      <td>less li class eql dqout toctree hyph l int dqo...</td>\n",
              "    </tr>\n",
              "    <tr>\n",
              "      <th>1</th>\n",
              "      <td>__label__Malicious</td>\n",
              "      <td>less div draggable eql dqout true dqout conten...</td>\n",
              "    </tr>\n",
              "    <tr>\n",
              "      <th>2</th>\n",
              "      <td>__label__Malicious</td>\n",
              "      <td>less button draggable eql dqout true dqout ond...</td>\n",
              "    </tr>\n",
              "    <tr>\n",
              "      <th>3</th>\n",
              "      <td>__label__Malicious</td>\n",
              "      <td>less map onpointerout eql alert opbrk int cbrk...</td>\n",
              "    </tr>\n",
              "    <tr>\n",
              "      <th>4</th>\n",
              "      <td>__label__Nonmalicious</td>\n",
              "      <td>less exlm doctype html gret less html class eq...</td>\n",
              "    </tr>\n",
              "  </tbody>\n",
              "</table>\n",
              "</div>\n",
              "      <button class=\"colab-df-convert\" onclick=\"convertToInteractive('df-d825b364-a0ab-42f4-8848-be62ccaa25c5')\"\n",
              "              title=\"Convert this dataframe to an interactive table.\"\n",
              "              style=\"display:none;\">\n",
              "        \n",
              "  <svg xmlns=\"http://www.w3.org/2000/svg\" height=\"24px\"viewBox=\"0 0 24 24\"\n",
              "       width=\"24px\">\n",
              "    <path d=\"M0 0h24v24H0V0z\" fill=\"none\"/>\n",
              "    <path d=\"M18.56 5.44l.94 2.06.94-2.06 2.06-.94-2.06-.94-.94-2.06-.94 2.06-2.06.94zm-11 1L8.5 8.5l.94-2.06 2.06-.94-2.06-.94L8.5 2.5l-.94 2.06-2.06.94zm10 10l.94 2.06.94-2.06 2.06-.94-2.06-.94-.94-2.06-.94 2.06-2.06.94z\"/><path d=\"M17.41 7.96l-1.37-1.37c-.4-.4-.92-.59-1.43-.59-.52 0-1.04.2-1.43.59L10.3 9.45l-7.72 7.72c-.78.78-.78 2.05 0 2.83L4 21.41c.39.39.9.59 1.41.59.51 0 1.02-.2 1.41-.59l7.78-7.78 2.81-2.81c.8-.78.8-2.07 0-2.86zM5.41 20L4 18.59l7.72-7.72 1.47 1.35L5.41 20z\"/>\n",
              "  </svg>\n",
              "      </button>\n",
              "      \n",
              "  <style>\n",
              "    .colab-df-container {\n",
              "      display:flex;\n",
              "      flex-wrap:wrap;\n",
              "      gap: 12px;\n",
              "    }\n",
              "\n",
              "    .colab-df-convert {\n",
              "      background-color: #E8F0FE;\n",
              "      border: none;\n",
              "      border-radius: 50%;\n",
              "      cursor: pointer;\n",
              "      display: none;\n",
              "      fill: #1967D2;\n",
              "      height: 32px;\n",
              "      padding: 0 0 0 0;\n",
              "      width: 32px;\n",
              "    }\n",
              "\n",
              "    .colab-df-convert:hover {\n",
              "      background-color: #E2EBFA;\n",
              "      box-shadow: 0px 1px 2px rgba(60, 64, 67, 0.3), 0px 1px 3px 1px rgba(60, 64, 67, 0.15);\n",
              "      fill: #174EA6;\n",
              "    }\n",
              "\n",
              "    [theme=dark] .colab-df-convert {\n",
              "      background-color: #3B4455;\n",
              "      fill: #D2E3FC;\n",
              "    }\n",
              "\n",
              "    [theme=dark] .colab-df-convert:hover {\n",
              "      background-color: #434B5C;\n",
              "      box-shadow: 0px 1px 3px 1px rgba(0, 0, 0, 0.15);\n",
              "      filter: drop-shadow(0px 1px 2px rgba(0, 0, 0, 0.3));\n",
              "      fill: #FFFFFF;\n",
              "    }\n",
              "  </style>\n",
              "\n",
              "      <script>\n",
              "        const buttonEl =\n",
              "          document.querySelector('#df-d825b364-a0ab-42f4-8848-be62ccaa25c5 button.colab-df-convert');\n",
              "        buttonEl.style.display =\n",
              "          google.colab.kernel.accessAllowed ? 'block' : 'none';\n",
              "\n",
              "        async function convertToInteractive(key) {\n",
              "          const element = document.querySelector('#df-d825b364-a0ab-42f4-8848-be62ccaa25c5');\n",
              "          const dataTable =\n",
              "            await google.colab.kernel.invokeFunction('convertToInteractive',\n",
              "                                                     [key], {});\n",
              "          if (!dataTable) return;\n",
              "\n",
              "          const docLinkHtml = 'Like what you see? Visit the ' +\n",
              "            '<a target=\"_blank\" href=https://colab.research.google.com/notebooks/data_table.ipynb>data table notebook</a>'\n",
              "            + ' to learn more about interactive tables.';\n",
              "          element.innerHTML = '';\n",
              "          dataTable['output_type'] = 'display_data';\n",
              "          await google.colab.output.renderOutput(dataTable, element);\n",
              "          const docLink = document.createElement('div');\n",
              "          docLink.innerHTML = docLinkHtml;\n",
              "          element.appendChild(docLink);\n",
              "        }\n",
              "      </script>\n",
              "    </div>\n",
              "  </div>\n",
              "  "
            ]
          },
          "metadata": {},
          "execution_count": 107
        }
      ],
      "source": [
        "train.head()"
      ]
    },
    {
      "cell_type": "code",
      "execution_count": null,
      "metadata": {
        "id": "IC5xQ92E3HJS"
      },
      "outputs": [],
      "source": [
        "#add __label__ \n",
        "test['Label'] = test['Label'].map({0:'__label__Nonmalicious', 1:'__label__Malicious'})"
      ]
    },
    {
      "cell_type": "code",
      "execution_count": null,
      "metadata": {
        "id": "Ae46IAmf3MjP",
        "colab": {
          "base_uri": "https://localhost:8080/",
          "height": 206
        },
        "outputId": "2aead024-be77-4bac-d379-fe4c589ed03a"
      },
      "outputs": [
        {
          "output_type": "execute_result",
          "data": {
            "text/plain": [
              "                                            Sentence                  Label  \\\n",
              "0        <keygen onpointerdown=alert(1)>XSS</keygen>     __label__Malicious   \n",
              "1  <link id=x tabindex=1 ondeactivate=alert(1)></...     __label__Malicious   \n",
              "2  <li id=\"cite_note-sak2014-269\"><span class=\"mw...  __label__Nonmalicious   \n",
              "3           <pre oncontextmenu=\"alert(1)\">test</pre>     __label__Malicious   \n",
              "4  <center onkeydown=\"alert(1)\" contenteditable>t...     __label__Malicious   \n",
              "\n",
              "                                   tokenized_payload  \n",
              "0  less keygen onpointerdown eql alert opbrk int ...  \n",
              "1  less link id eql x tabindex eql int ondeactiva...  \n",
              "2  less li id eql dqout cite udsc note hyph sak i...  \n",
              "3  less pre oncontextmenu eql dqout alert opbrk i...  \n",
              "4  less center onkeydown eql dqout alert opbrk in...  "
            ],
            "text/html": [
              "\n",
              "  <div id=\"df-3f97a412-b2b9-433e-ad40-bee4231c27b2\">\n",
              "    <div class=\"colab-df-container\">\n",
              "      <div>\n",
              "<style scoped>\n",
              "    .dataframe tbody tr th:only-of-type {\n",
              "        vertical-align: middle;\n",
              "    }\n",
              "\n",
              "    .dataframe tbody tr th {\n",
              "        vertical-align: top;\n",
              "    }\n",
              "\n",
              "    .dataframe thead th {\n",
              "        text-align: right;\n",
              "    }\n",
              "</style>\n",
              "<table border=\"1\" class=\"dataframe\">\n",
              "  <thead>\n",
              "    <tr style=\"text-align: right;\">\n",
              "      <th></th>\n",
              "      <th>Sentence</th>\n",
              "      <th>Label</th>\n",
              "      <th>tokenized_payload</th>\n",
              "    </tr>\n",
              "  </thead>\n",
              "  <tbody>\n",
              "    <tr>\n",
              "      <th>0</th>\n",
              "      <td>&lt;keygen onpointerdown=alert(1)&gt;XSS&lt;/keygen&gt;</td>\n",
              "      <td>__label__Malicious</td>\n",
              "      <td>less keygen onpointerdown eql alert opbrk int ...</td>\n",
              "    </tr>\n",
              "    <tr>\n",
              "      <th>1</th>\n",
              "      <td>&lt;link id=x tabindex=1 ondeactivate=alert(1)&gt;&lt;/...</td>\n",
              "      <td>__label__Malicious</td>\n",
              "      <td>less link id eql x tabindex eql int ondeactiva...</td>\n",
              "    </tr>\n",
              "    <tr>\n",
              "      <th>2</th>\n",
              "      <td>&lt;li id=\"cite_note-sak2014-269\"&gt;&lt;span class=\"mw...</td>\n",
              "      <td>__label__Nonmalicious</td>\n",
              "      <td>less li id eql dqout cite udsc note hyph sak i...</td>\n",
              "    </tr>\n",
              "    <tr>\n",
              "      <th>3</th>\n",
              "      <td>&lt;pre oncontextmenu=\"alert(1)\"&gt;test&lt;/pre&gt;</td>\n",
              "      <td>__label__Malicious</td>\n",
              "      <td>less pre oncontextmenu eql dqout alert opbrk i...</td>\n",
              "    </tr>\n",
              "    <tr>\n",
              "      <th>4</th>\n",
              "      <td>&lt;center onkeydown=\"alert(1)\" contenteditable&gt;t...</td>\n",
              "      <td>__label__Malicious</td>\n",
              "      <td>less center onkeydown eql dqout alert opbrk in...</td>\n",
              "    </tr>\n",
              "  </tbody>\n",
              "</table>\n",
              "</div>\n",
              "      <button class=\"colab-df-convert\" onclick=\"convertToInteractive('df-3f97a412-b2b9-433e-ad40-bee4231c27b2')\"\n",
              "              title=\"Convert this dataframe to an interactive table.\"\n",
              "              style=\"display:none;\">\n",
              "        \n",
              "  <svg xmlns=\"http://www.w3.org/2000/svg\" height=\"24px\"viewBox=\"0 0 24 24\"\n",
              "       width=\"24px\">\n",
              "    <path d=\"M0 0h24v24H0V0z\" fill=\"none\"/>\n",
              "    <path d=\"M18.56 5.44l.94 2.06.94-2.06 2.06-.94-2.06-.94-.94-2.06-.94 2.06-2.06.94zm-11 1L8.5 8.5l.94-2.06 2.06-.94-2.06-.94L8.5 2.5l-.94 2.06-2.06.94zm10 10l.94 2.06.94-2.06 2.06-.94-2.06-.94-.94-2.06-.94 2.06-2.06.94z\"/><path d=\"M17.41 7.96l-1.37-1.37c-.4-.4-.92-.59-1.43-.59-.52 0-1.04.2-1.43.59L10.3 9.45l-7.72 7.72c-.78.78-.78 2.05 0 2.83L4 21.41c.39.39.9.59 1.41.59.51 0 1.02-.2 1.41-.59l7.78-7.78 2.81-2.81c.8-.78.8-2.07 0-2.86zM5.41 20L4 18.59l7.72-7.72 1.47 1.35L5.41 20z\"/>\n",
              "  </svg>\n",
              "      </button>\n",
              "      \n",
              "  <style>\n",
              "    .colab-df-container {\n",
              "      display:flex;\n",
              "      flex-wrap:wrap;\n",
              "      gap: 12px;\n",
              "    }\n",
              "\n",
              "    .colab-df-convert {\n",
              "      background-color: #E8F0FE;\n",
              "      border: none;\n",
              "      border-radius: 50%;\n",
              "      cursor: pointer;\n",
              "      display: none;\n",
              "      fill: #1967D2;\n",
              "      height: 32px;\n",
              "      padding: 0 0 0 0;\n",
              "      width: 32px;\n",
              "    }\n",
              "\n",
              "    .colab-df-convert:hover {\n",
              "      background-color: #E2EBFA;\n",
              "      box-shadow: 0px 1px 2px rgba(60, 64, 67, 0.3), 0px 1px 3px 1px rgba(60, 64, 67, 0.15);\n",
              "      fill: #174EA6;\n",
              "    }\n",
              "\n",
              "    [theme=dark] .colab-df-convert {\n",
              "      background-color: #3B4455;\n",
              "      fill: #D2E3FC;\n",
              "    }\n",
              "\n",
              "    [theme=dark] .colab-df-convert:hover {\n",
              "      background-color: #434B5C;\n",
              "      box-shadow: 0px 1px 3px 1px rgba(0, 0, 0, 0.15);\n",
              "      filter: drop-shadow(0px 1px 2px rgba(0, 0, 0, 0.3));\n",
              "      fill: #FFFFFF;\n",
              "    }\n",
              "  </style>\n",
              "\n",
              "      <script>\n",
              "        const buttonEl =\n",
              "          document.querySelector('#df-3f97a412-b2b9-433e-ad40-bee4231c27b2 button.colab-df-convert');\n",
              "        buttonEl.style.display =\n",
              "          google.colab.kernel.accessAllowed ? 'block' : 'none';\n",
              "\n",
              "        async function convertToInteractive(key) {\n",
              "          const element = document.querySelector('#df-3f97a412-b2b9-433e-ad40-bee4231c27b2');\n",
              "          const dataTable =\n",
              "            await google.colab.kernel.invokeFunction('convertToInteractive',\n",
              "                                                     [key], {});\n",
              "          if (!dataTable) return;\n",
              "\n",
              "          const docLinkHtml = 'Like what you see? Visit the ' +\n",
              "            '<a target=\"_blank\" href=https://colab.research.google.com/notebooks/data_table.ipynb>data table notebook</a>'\n",
              "            + ' to learn more about interactive tables.';\n",
              "          element.innerHTML = '';\n",
              "          dataTable['output_type'] = 'display_data';\n",
              "          await google.colab.output.renderOutput(dataTable, element);\n",
              "          const docLink = document.createElement('div');\n",
              "          docLink.innerHTML = docLinkHtml;\n",
              "          element.appendChild(docLink);\n",
              "        }\n",
              "      </script>\n",
              "    </div>\n",
              "  </div>\n",
              "  "
            ]
          },
          "metadata": {},
          "execution_count": 109
        }
      ],
      "source": [
        "test.head()"
      ]
    },
    {
      "cell_type": "code",
      "execution_count": null,
      "metadata": {
        "id": "htHb7gtk3TuM",
        "colab": {
          "base_uri": "https://localhost:8080/"
        },
        "outputId": "1508aeae-1447-4828-a2cb-e8585341c4a4"
      },
      "outputs": [
        {
          "output_type": "execute_result",
          "data": {
            "text/plain": [
              "0             <keygen onpointerdown=alert(1)>XSS</keygen>\n",
              "1       <link id=x tabindex=1 ondeactivate=alert(1)></...\n",
              "2       <li id=\"cite_note-sak2014-269\"><span class=\"mw...\n",
              "3                <pre oncontextmenu=\"alert(1)\">test</pre>\n",
              "4       <center onkeydown=\"alert(1)\" contenteditable>t...\n",
              "                              ...                        \n",
              "2179    <ruby onkeypress=\"alert(1)\" contenteditable>te...\n",
              "2180                        <input id=x onfocus=alert(1)>\n",
              "2181    <ul><li><a href=\"#CITEREFLucas1961\">Lucas 1961...\n",
              "2182               <small onclick=\"alert(1)\">test</small>\n",
              "2183    <section id=x tabindex=1 ondeactivate=alert(1)...\n",
              "Name: Sentence, Length: 2184, dtype: object"
            ]
          },
          "metadata": {},
          "execution_count": 110
        }
      ],
      "source": [
        "#remove 'Sentence' column\n",
        "test.pop('Sentence')"
      ]
    },
    {
      "cell_type": "code",
      "execution_count": null,
      "metadata": {
        "id": "85sJqMeS3XlQ",
        "colab": {
          "base_uri": "https://localhost:8080/",
          "height": 206
        },
        "outputId": "a8585bbf-25db-444c-a343-22fefbfba5f8"
      },
      "outputs": [
        {
          "output_type": "execute_result",
          "data": {
            "text/plain": [
              "                   Label                                  tokenized_payload\n",
              "0     __label__Malicious  less keygen onpointerdown eql alert opbrk int ...\n",
              "1     __label__Malicious  less link id eql x tabindex eql int ondeactiva...\n",
              "2  __label__Nonmalicious  less li id eql dqout cite udsc note hyph sak i...\n",
              "3     __label__Malicious  less pre oncontextmenu eql dqout alert opbrk i...\n",
              "4     __label__Malicious  less center onkeydown eql dqout alert opbrk in..."
            ],
            "text/html": [
              "\n",
              "  <div id=\"df-ed4e320f-e26a-4e71-ab9b-a36d58c76c00\">\n",
              "    <div class=\"colab-df-container\">\n",
              "      <div>\n",
              "<style scoped>\n",
              "    .dataframe tbody tr th:only-of-type {\n",
              "        vertical-align: middle;\n",
              "    }\n",
              "\n",
              "    .dataframe tbody tr th {\n",
              "        vertical-align: top;\n",
              "    }\n",
              "\n",
              "    .dataframe thead th {\n",
              "        text-align: right;\n",
              "    }\n",
              "</style>\n",
              "<table border=\"1\" class=\"dataframe\">\n",
              "  <thead>\n",
              "    <tr style=\"text-align: right;\">\n",
              "      <th></th>\n",
              "      <th>Label</th>\n",
              "      <th>tokenized_payload</th>\n",
              "    </tr>\n",
              "  </thead>\n",
              "  <tbody>\n",
              "    <tr>\n",
              "      <th>0</th>\n",
              "      <td>__label__Malicious</td>\n",
              "      <td>less keygen onpointerdown eql alert opbrk int ...</td>\n",
              "    </tr>\n",
              "    <tr>\n",
              "      <th>1</th>\n",
              "      <td>__label__Malicious</td>\n",
              "      <td>less link id eql x tabindex eql int ondeactiva...</td>\n",
              "    </tr>\n",
              "    <tr>\n",
              "      <th>2</th>\n",
              "      <td>__label__Nonmalicious</td>\n",
              "      <td>less li id eql dqout cite udsc note hyph sak i...</td>\n",
              "    </tr>\n",
              "    <tr>\n",
              "      <th>3</th>\n",
              "      <td>__label__Malicious</td>\n",
              "      <td>less pre oncontextmenu eql dqout alert opbrk i...</td>\n",
              "    </tr>\n",
              "    <tr>\n",
              "      <th>4</th>\n",
              "      <td>__label__Malicious</td>\n",
              "      <td>less center onkeydown eql dqout alert opbrk in...</td>\n",
              "    </tr>\n",
              "  </tbody>\n",
              "</table>\n",
              "</div>\n",
              "      <button class=\"colab-df-convert\" onclick=\"convertToInteractive('df-ed4e320f-e26a-4e71-ab9b-a36d58c76c00')\"\n",
              "              title=\"Convert this dataframe to an interactive table.\"\n",
              "              style=\"display:none;\">\n",
              "        \n",
              "  <svg xmlns=\"http://www.w3.org/2000/svg\" height=\"24px\"viewBox=\"0 0 24 24\"\n",
              "       width=\"24px\">\n",
              "    <path d=\"M0 0h24v24H0V0z\" fill=\"none\"/>\n",
              "    <path d=\"M18.56 5.44l.94 2.06.94-2.06 2.06-.94-2.06-.94-.94-2.06-.94 2.06-2.06.94zm-11 1L8.5 8.5l.94-2.06 2.06-.94-2.06-.94L8.5 2.5l-.94 2.06-2.06.94zm10 10l.94 2.06.94-2.06 2.06-.94-2.06-.94-.94-2.06-.94 2.06-2.06.94z\"/><path d=\"M17.41 7.96l-1.37-1.37c-.4-.4-.92-.59-1.43-.59-.52 0-1.04.2-1.43.59L10.3 9.45l-7.72 7.72c-.78.78-.78 2.05 0 2.83L4 21.41c.39.39.9.59 1.41.59.51 0 1.02-.2 1.41-.59l7.78-7.78 2.81-2.81c.8-.78.8-2.07 0-2.86zM5.41 20L4 18.59l7.72-7.72 1.47 1.35L5.41 20z\"/>\n",
              "  </svg>\n",
              "      </button>\n",
              "      \n",
              "  <style>\n",
              "    .colab-df-container {\n",
              "      display:flex;\n",
              "      flex-wrap:wrap;\n",
              "      gap: 12px;\n",
              "    }\n",
              "\n",
              "    .colab-df-convert {\n",
              "      background-color: #E8F0FE;\n",
              "      border: none;\n",
              "      border-radius: 50%;\n",
              "      cursor: pointer;\n",
              "      display: none;\n",
              "      fill: #1967D2;\n",
              "      height: 32px;\n",
              "      padding: 0 0 0 0;\n",
              "      width: 32px;\n",
              "    }\n",
              "\n",
              "    .colab-df-convert:hover {\n",
              "      background-color: #E2EBFA;\n",
              "      box-shadow: 0px 1px 2px rgba(60, 64, 67, 0.3), 0px 1px 3px 1px rgba(60, 64, 67, 0.15);\n",
              "      fill: #174EA6;\n",
              "    }\n",
              "\n",
              "    [theme=dark] .colab-df-convert {\n",
              "      background-color: #3B4455;\n",
              "      fill: #D2E3FC;\n",
              "    }\n",
              "\n",
              "    [theme=dark] .colab-df-convert:hover {\n",
              "      background-color: #434B5C;\n",
              "      box-shadow: 0px 1px 3px 1px rgba(0, 0, 0, 0.15);\n",
              "      filter: drop-shadow(0px 1px 2px rgba(0, 0, 0, 0.3));\n",
              "      fill: #FFFFFF;\n",
              "    }\n",
              "  </style>\n",
              "\n",
              "      <script>\n",
              "        const buttonEl =\n",
              "          document.querySelector('#df-ed4e320f-e26a-4e71-ab9b-a36d58c76c00 button.colab-df-convert');\n",
              "        buttonEl.style.display =\n",
              "          google.colab.kernel.accessAllowed ? 'block' : 'none';\n",
              "\n",
              "        async function convertToInteractive(key) {\n",
              "          const element = document.querySelector('#df-ed4e320f-e26a-4e71-ab9b-a36d58c76c00');\n",
              "          const dataTable =\n",
              "            await google.colab.kernel.invokeFunction('convertToInteractive',\n",
              "                                                     [key], {});\n",
              "          if (!dataTable) return;\n",
              "\n",
              "          const docLinkHtml = 'Like what you see? Visit the ' +\n",
              "            '<a target=\"_blank\" href=https://colab.research.google.com/notebooks/data_table.ipynb>data table notebook</a>'\n",
              "            + ' to learn more about interactive tables.';\n",
              "          element.innerHTML = '';\n",
              "          dataTable['output_type'] = 'display_data';\n",
              "          await google.colab.output.renderOutput(dataTable, element);\n",
              "          const docLink = document.createElement('div');\n",
              "          docLink.innerHTML = docLinkHtml;\n",
              "          element.appendChild(docLink);\n",
              "        }\n",
              "      </script>\n",
              "    </div>\n",
              "  </div>\n",
              "  "
            ]
          },
          "metadata": {},
          "execution_count": 111
        }
      ],
      "source": [
        "test.head()"
      ]
    },
    {
      "cell_type": "code",
      "execution_count": null,
      "metadata": {
        "id": "tB-PN8F8uXht"
      },
      "outputs": [],
      "source": [
        "#convert CSV files to text files\n",
        "train[['Label', 'tokenized_payload']].to_csv('/content/train.txt', \n",
        "                                          index = False, \n",
        "                                          sep = ' ',\n",
        "                                          header = None, \n",
        "                                          quoting = csv.QUOTE_NONE, \n",
        "                                          quotechar = \"\", \n",
        "                                          escapechar = \" \")\n",
        "test[['Label', 'tokenized_payload']].to_csv('/content/test.txt', \n",
        "                                          index = False, \n",
        "                                          sep = ' ',\n",
        "                                          header = None, \n",
        "                                          quoting = csv.QUOTE_NONE, \n",
        "                                          quotechar = \"\", \n",
        "                                          escapechar = \" \")\n",
        "\n"
      ]
    },
    {
      "cell_type": "code",
      "execution_count": null,
      "metadata": {
        "id": "cVxxzT5X0pIa",
        "colab": {
          "base_uri": "https://localhost:8080/"
        },
        "outputId": "44a96fba-2b57-44b2-c78e-898940d70705"
      },
      "outputs": [
        {
          "output_type": "stream",
          "name": "stdout",
          "text": [
            "Looking in indexes: https://pypi.org/simple, https://us-python.pkg.dev/colab-wheels/public/simple/\n",
            "Requirement already satisfied: fasttext in /usr/local/lib/python3.7/dist-packages (0.9.2)\n",
            "Requirement already satisfied: numpy in /usr/local/lib/python3.7/dist-packages (from fasttext) (1.21.6)\n",
            "Requirement already satisfied: setuptools>=0.7.0 in /usr/local/lib/python3.7/dist-packages (from fasttext) (57.4.0)\n",
            "Requirement already satisfied: pybind11>=2.2 in /usr/local/lib/python3.7/dist-packages (from fasttext) (2.9.2)\n"
          ]
        }
      ],
      "source": [
        "!pip install fasttext"
      ]
    },
    {
      "cell_type": "code",
      "execution_count": null,
      "metadata": {
        "id": "aSso5yWR1IEr"
      },
      "outputs": [],
      "source": [
        "import fasttext"
      ]
    },
    {
      "cell_type": "code",
      "execution_count": null,
      "metadata": {
        "id": "MI9qXGbO1hDL"
      },
      "outputs": [],
      "source": [
        "#train fasttext model\n",
        "fasttext_model = fasttext.train_supervised('/content/train.txt')"
      ]
    },
    {
      "cell_type": "code",
      "execution_count": null,
      "metadata": {
        "id": "5Qlud-l914q8",
        "colab": {
          "base_uri": "https://localhost:8080/"
        },
        "outputId": "2b9d5d8b-ce9a-4c2b-aca1-8acc08e7b73d"
      },
      "outputs": [
        {
          "output_type": "stream",
          "name": "stdout",
          "text": [
            "99.81684981684981\n"
          ]
        }
      ],
      "source": [
        "#test the model \n",
        "\n",
        "Number_of_Samples, Precision, Recall = fasttext_model.test('/content/test.txt') #test the model\n",
        "\n",
        "F_Measure = ((2 * Precision * Recall) / (Precision + Recall))\n",
        "print(F_Measure*100)"
      ]
    },
    {
      "cell_type": "code",
      "source": [
        "#calculate the accuracy\n",
        "\n",
        "#add 'predicted' column after applying model.predict() function to 'tokenized_payload' column\n",
        "df[\"predicted\"] = df[\"tokenized_payload\"].apply(lambda x: fasttext_model.predict(x)[0][0])\n",
        "\n",
        "#add __label__\n",
        "df['predicted'] = df['predicted'].map({'__label__Nonmalicious':0, '__label__Malicious':1})\n",
        "\n",
        "#calculate confusion_matrix\n",
        "[[TP, FP], [FN, TN]] = confusion_matrix(df[\"Label\"], df[\"predicted\"])\n",
        "\n",
        "#calculate the accuracy\n",
        "Accuracy = (TP+TN)/(TP+TN+FP+FN)\n",
        "print(Accuracy*100)"
      ],
      "metadata": {
        "colab": {
          "base_uri": "https://localhost:8080/"
        },
        "id": "6wYYWQYmt8Cj",
        "outputId": "88dd58a2-109d-45df-ffa0-967a9977a23f"
      },
      "execution_count": null,
      "outputs": [
        {
          "output_type": "stream",
          "name": "stdout",
          "text": [
            "99.79847943574242\n"
          ]
        }
      ]
    },
    {
      "cell_type": "code",
      "execution_count": null,
      "metadata": {
        "id": "ED2CMc6y5-Di",
        "colab": {
          "base_uri": "https://localhost:8080/"
        },
        "outputId": "6f8d0c6b-e56a-47cf-8e5a-95f5ea17cffc"
      },
      "outputs": [
        {
          "output_type": "stream",
          "name": "stdout",
          "text": [
            "less svg gret less a gret less animate attributename eql href values eql javascript coln alert opbrk int cbrk slsh gret less text x eql int int y eql int int gret click me less slsh text gret less slsh a gret less slsh svg gret\n"
          ]
        }
      ],
      "source": [
        "#test the model using a new payload\n",
        "#first tokenize it\n",
        "print(tokenize('<svg><a><animate attributeName=href values=javascript:alert(1) /><text x=20 y=20>Click me</text></a></svg>'))\n"
      ]
    },
    {
      "cell_type": "code",
      "execution_count": null,
      "metadata": {
        "id": "9pY3mKUa6Qtd",
        "colab": {
          "base_uri": "https://localhost:8080/"
        },
        "outputId": "ac6a55c0-94a9-4829-c29e-95c4e48245f3"
      },
      "outputs": [
        {
          "output_type": "execute_result",
          "data": {
            "text/plain": [
              "(('__label__Malicious',), array([0.97377121]))"
            ]
          },
          "metadata": {},
          "execution_count": 119
        }
      ],
      "source": [
        "#now predict the label\n",
        "fasttext_model.predict('less svg gret less a gret less animate attributename eql href values eql javascript coln alert opbrk int cbrk slsh gret less text x eql int int y eql int int gret click me less slsh text gret less slsh a gret less slsh svg gret')"
      ]
    },
    {
      "cell_type": "code",
      "execution_count": null,
      "metadata": {
        "id": "k_a3ed-Z6WxV",
        "colab": {
          "base_uri": "https://localhost:8080/"
        },
        "outputId": "4185107c-22b3-4a41-c514-a14897857b9d"
      },
      "outputs": [
        {
          "output_type": "stream",
          "name": "stdout",
          "text": [
            "less x ondrag eql alert opbrk int cbrk gret drag this exlm\n"
          ]
        }
      ],
      "source": [
        "print(tokenize('<x ondrag=alert(1)>drag this!'))"
      ]
    },
    {
      "cell_type": "code",
      "execution_count": null,
      "metadata": {
        "id": "uvfLuXBa7WQa",
        "colab": {
          "base_uri": "https://localhost:8080/"
        },
        "outputId": "49e8e006-713d-4dbc-ebb6-080e5a52a031"
      },
      "outputs": [
        {
          "output_type": "execute_result",
          "data": {
            "text/plain": [
              "(('__label__Malicious',), array([1.00000811]))"
            ]
          },
          "metadata": {},
          "execution_count": 121
        }
      ],
      "source": [
        "fasttext_model.predict('less x ondrag eql alert opbrk int cbrk gret drag this exlm')"
      ]
    },
    {
      "cell_type": "markdown",
      "metadata": {
        "id": "E5HaoqYeNxH1"
      },
      "source": [
        ""
      ]
    }
  ],
  "metadata": {
    "colab": {
      "collapsed_sections": [],
      "name": "DefenseMechanisms-Project.ipynb",
      "provenance": [],
      "include_colab_link": true
    },
    "kernelspec": {
      "display_name": "Python 3",
      "name": "python3"
    },
    "language_info": {
      "name": "python"
    }
  },
  "nbformat": 4,
  "nbformat_minor": 0
}