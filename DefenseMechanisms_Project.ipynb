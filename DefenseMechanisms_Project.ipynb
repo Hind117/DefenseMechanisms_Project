{
  "cells": [
    {
      "cell_type": "markdown",
      "metadata": {
        "id": "view-in-github",
        "colab_type": "text"
      },
      "source": [
        "<a href=\"https://colab.research.google.com/github/Hind117/DefenseMechanisms_Project/blob/main/DefenseMechanisms_Project.ipynb\" target=\"_parent\"><img src=\"https://colab.research.google.com/assets/colab-badge.svg\" alt=\"Open In Colab\"/></a>"
      ]
    },
    {
      "cell_type": "code",
      "execution_count": null,
      "metadata": {
        "colab": {
          "base_uri": "https://localhost:8080/"
        },
        "id": "BYhy4NEcLW-9",
        "outputId": "3438f4e0-13b7-4143-e691-0d20b04c911e"
      },
      "outputs": [
        {
          "output_type": "stream",
          "name": "stdout",
          "text": [
            "[nltk_data] Downloading package punkt to /root/nltk_data...\n",
            "[nltk_data]   Unzipping tokenizers/punkt.zip.\n"
          ]
        },
        {
          "output_type": "execute_result",
          "data": {
            "text/plain": [
              "True"
            ]
          },
          "metadata": {},
          "execution_count": 1
        }
      ],
      "source": [
        "#import libraries\n",
        "import pandas as pd\n",
        "import re\n",
        "import nltk\n",
        "import csv\n",
        "from nltk.tokenize import word_tokenize\n",
        "from sklearn.pipeline import Pipeline\n",
        "from sklearn.model_selection import train_test_split, cross_val_score\n",
        "from sklearn.metrics import classification_report\n",
        "from sklearn.feature_extraction.text import CountVectorizer, TfidfTransformer\n",
        "from sklearn.linear_model import LogisticRegression\n",
        "from sklearn.metrics import precision_score, recall_score, f1_score, accuracy_score\n",
        "from sklearn.metrics import confusion_matrix\n",
        "from sklearn.naive_bayes import MultinomialNB\n",
        "from sklearn.svm import SVC\n",
        "from sklearn.ensemble import RandomForestClassifier\n",
        "from sklearn.tree import DecisionTreeClassifier\n",
        "nltk.download('punkt')"
      ]
    },
    {
      "cell_type": "markdown",
      "source": [
        "**Data Exploring and cleaning**"
      ],
      "metadata": {
        "id": "GAu33EuPakF_"
      }
    },
    {
      "cell_type": "code",
      "execution_count": null,
      "metadata": {
        "colab": {
          "base_uri": "https://localhost:8080/",
          "height": 206
        },
        "id": "SbAZITmmMQ2M",
        "outputId": "3c80b309-fb19-4ad5-ad14-c5f0f6dbcd32"
      },
      "outputs": [
        {
          "output_type": "execute_result",
          "data": {
            "text/plain": [
              "   Unnamed: 0                                           Sentence  Label\n",
              "0           0  <li><a href=\"/wiki/File:Socrates.png\" class=\"i...      0\n",
              "1           1               <tt onmouseover=\"alert(1)\">test</tt>      1\n",
              "2           2  \\t </span> <span class=\"reference-text\">Steeri...      0\n",
              "3           3  \\t </span> <span class=\"reference-text\"><cite ...      0\n",
              "4           4  \\t </span>. <a href=\"/wiki/Digital_object_iden...      0"
            ],
            "text/html": [
              "\n",
              "  <div id=\"df-b9e9db5e-8cd4-4d9a-b606-07268cc870ad\">\n",
              "    <div class=\"colab-df-container\">\n",
              "      <div>\n",
              "<style scoped>\n",
              "    .dataframe tbody tr th:only-of-type {\n",
              "        vertical-align: middle;\n",
              "    }\n",
              "\n",
              "    .dataframe tbody tr th {\n",
              "        vertical-align: top;\n",
              "    }\n",
              "\n",
              "    .dataframe thead th {\n",
              "        text-align: right;\n",
              "    }\n",
              "</style>\n",
              "<table border=\"1\" class=\"dataframe\">\n",
              "  <thead>\n",
              "    <tr style=\"text-align: right;\">\n",
              "      <th></th>\n",
              "      <th>Unnamed: 0</th>\n",
              "      <th>Sentence</th>\n",
              "      <th>Label</th>\n",
              "    </tr>\n",
              "  </thead>\n",
              "  <tbody>\n",
              "    <tr>\n",
              "      <th>0</th>\n",
              "      <td>0</td>\n",
              "      <td>&lt;li&gt;&lt;a href=\"/wiki/File:Socrates.png\" class=\"i...</td>\n",
              "      <td>0</td>\n",
              "    </tr>\n",
              "    <tr>\n",
              "      <th>1</th>\n",
              "      <td>1</td>\n",
              "      <td>&lt;tt onmouseover=\"alert(1)\"&gt;test&lt;/tt&gt;</td>\n",
              "      <td>1</td>\n",
              "    </tr>\n",
              "    <tr>\n",
              "      <th>2</th>\n",
              "      <td>2</td>\n",
              "      <td>\\t &lt;/span&gt; &lt;span class=\"reference-text\"&gt;Steeri...</td>\n",
              "      <td>0</td>\n",
              "    </tr>\n",
              "    <tr>\n",
              "      <th>3</th>\n",
              "      <td>3</td>\n",
              "      <td>\\t &lt;/span&gt; &lt;span class=\"reference-text\"&gt;&lt;cite ...</td>\n",
              "      <td>0</td>\n",
              "    </tr>\n",
              "    <tr>\n",
              "      <th>4</th>\n",
              "      <td>4</td>\n",
              "      <td>\\t &lt;/span&gt;. &lt;a href=\"/wiki/Digital_object_iden...</td>\n",
              "      <td>0</td>\n",
              "    </tr>\n",
              "  </tbody>\n",
              "</table>\n",
              "</div>\n",
              "      <button class=\"colab-df-convert\" onclick=\"convertToInteractive('df-b9e9db5e-8cd4-4d9a-b606-07268cc870ad')\"\n",
              "              title=\"Convert this dataframe to an interactive table.\"\n",
              "              style=\"display:none;\">\n",
              "        \n",
              "  <svg xmlns=\"http://www.w3.org/2000/svg\" height=\"24px\"viewBox=\"0 0 24 24\"\n",
              "       width=\"24px\">\n",
              "    <path d=\"M0 0h24v24H0V0z\" fill=\"none\"/>\n",
              "    <path d=\"M18.56 5.44l.94 2.06.94-2.06 2.06-.94-2.06-.94-.94-2.06-.94 2.06-2.06.94zm-11 1L8.5 8.5l.94-2.06 2.06-.94-2.06-.94L8.5 2.5l-.94 2.06-2.06.94zm10 10l.94 2.06.94-2.06 2.06-.94-2.06-.94-.94-2.06-.94 2.06-2.06.94z\"/><path d=\"M17.41 7.96l-1.37-1.37c-.4-.4-.92-.59-1.43-.59-.52 0-1.04.2-1.43.59L10.3 9.45l-7.72 7.72c-.78.78-.78 2.05 0 2.83L4 21.41c.39.39.9.59 1.41.59.51 0 1.02-.2 1.41-.59l7.78-7.78 2.81-2.81c.8-.78.8-2.07 0-2.86zM5.41 20L4 18.59l7.72-7.72 1.47 1.35L5.41 20z\"/>\n",
              "  </svg>\n",
              "      </button>\n",
              "      \n",
              "  <style>\n",
              "    .colab-df-container {\n",
              "      display:flex;\n",
              "      flex-wrap:wrap;\n",
              "      gap: 12px;\n",
              "    }\n",
              "\n",
              "    .colab-df-convert {\n",
              "      background-color: #E8F0FE;\n",
              "      border: none;\n",
              "      border-radius: 50%;\n",
              "      cursor: pointer;\n",
              "      display: none;\n",
              "      fill: #1967D2;\n",
              "      height: 32px;\n",
              "      padding: 0 0 0 0;\n",
              "      width: 32px;\n",
              "    }\n",
              "\n",
              "    .colab-df-convert:hover {\n",
              "      background-color: #E2EBFA;\n",
              "      box-shadow: 0px 1px 2px rgba(60, 64, 67, 0.3), 0px 1px 3px 1px rgba(60, 64, 67, 0.15);\n",
              "      fill: #174EA6;\n",
              "    }\n",
              "\n",
              "    [theme=dark] .colab-df-convert {\n",
              "      background-color: #3B4455;\n",
              "      fill: #D2E3FC;\n",
              "    }\n",
              "\n",
              "    [theme=dark] .colab-df-convert:hover {\n",
              "      background-color: #434B5C;\n",
              "      box-shadow: 0px 1px 3px 1px rgba(0, 0, 0, 0.15);\n",
              "      filter: drop-shadow(0px 1px 2px rgba(0, 0, 0, 0.3));\n",
              "      fill: #FFFFFF;\n",
              "    }\n",
              "  </style>\n",
              "\n",
              "      <script>\n",
              "        const buttonEl =\n",
              "          document.querySelector('#df-b9e9db5e-8cd4-4d9a-b606-07268cc870ad button.colab-df-convert');\n",
              "        buttonEl.style.display =\n",
              "          google.colab.kernel.accessAllowed ? 'block' : 'none';\n",
              "\n",
              "        async function convertToInteractive(key) {\n",
              "          const element = document.querySelector('#df-b9e9db5e-8cd4-4d9a-b606-07268cc870ad');\n",
              "          const dataTable =\n",
              "            await google.colab.kernel.invokeFunction('convertToInteractive',\n",
              "                                                     [key], {});\n",
              "          if (!dataTable) return;\n",
              "\n",
              "          const docLinkHtml = 'Like what you see? Visit the ' +\n",
              "            '<a target=\"_blank\" href=https://colab.research.google.com/notebooks/data_table.ipynb>data table notebook</a>'\n",
              "            + ' to learn more about interactive tables.';\n",
              "          element.innerHTML = '';\n",
              "          dataTable['output_type'] = 'display_data';\n",
              "          await google.colab.output.renderOutput(dataTable, element);\n",
              "          const docLink = document.createElement('div');\n",
              "          docLink.innerHTML = docLinkHtml;\n",
              "          element.appendChild(docLink);\n",
              "        }\n",
              "      </script>\n",
              "    </div>\n",
              "  </div>\n",
              "  "
            ]
          },
          "metadata": {},
          "execution_count": 2
        }
      ],
      "source": [
        "#read dataset file\n",
        "df = pd.read_csv(\"/content/XSS_dataset.csv\")\n",
        "\n",
        "df.head()"
      ]
    },
    {
      "cell_type": "code",
      "execution_count": null,
      "metadata": {
        "colab": {
          "base_uri": "https://localhost:8080/"
        },
        "id": "mjlWc88NNT9B",
        "outputId": "45c97b44-59cf-4468-d82d-23405b36c654"
      },
      "outputs": [
        {
          "output_type": "execute_result",
          "data": {
            "text/plain": [
              "(13686, 3)"
            ]
          },
          "metadata": {},
          "execution_count": 3
        }
      ],
      "source": [
        "#how many columns and rows\n",
        "df.shape"
      ]
    },
    {
      "cell_type": "code",
      "execution_count": null,
      "metadata": {
        "colab": {
          "base_uri": "https://localhost:8080/"
        },
        "id": "h9sOJhFLNWYC",
        "outputId": "09d7c68a-f6b6-48d2-e5d9-1e4dfcd525bf"
      },
      "outputs": [
        {
          "output_type": "execute_result",
          "data": {
            "text/plain": [
              "1    0.538726\n",
              "0    0.461274\n",
              "Name: Label, dtype: float64"
            ]
          },
          "metadata": {},
          "execution_count": 4
        }
      ],
      "source": [
        "#how many rows for each class\n",
        "df['Label'].value_counts(normalize = True)"
      ]
    },
    {
      "cell_type": "code",
      "execution_count": null,
      "metadata": {
        "colab": {
          "base_uri": "https://localhost:8080/"
        },
        "id": "jokdLqH1OCHy",
        "outputId": "8248067d-8ef2-4d7f-e970-d514d3c30ed7"
      },
      "outputs": [
        {
          "output_type": "execute_result",
          "data": {
            "text/plain": [
              "2769"
            ]
          },
          "metadata": {},
          "execution_count": 5
        }
      ],
      "source": [
        "#how many duplicates rows\n",
        "df.duplicated(['Sentence']).sum()"
      ]
    },
    {
      "cell_type": "code",
      "execution_count": null,
      "metadata": {
        "colab": {
          "base_uri": "https://localhost:8080/"
        },
        "id": "hopSfaMcOFwx",
        "outputId": "a7c302f5-dfe4-4b51-9911-8262785fc7a7"
      },
      "outputs": [
        {
          "output_type": "execute_result",
          "data": {
            "text/plain": [
              "Index(['Unnamed: 0', 'Sentence', 'Label'], dtype='object')"
            ]
          },
          "metadata": {},
          "execution_count": 6
        }
      ],
      "source": [
        "df.columns"
      ]
    },
    {
      "cell_type": "code",
      "execution_count": null,
      "metadata": {
        "colab": {
          "base_uri": "https://localhost:8080/"
        },
        "id": "7ioWGSwxOIR1",
        "outputId": "b2659ee4-6ce4-44a9-ff6d-1ea9cfa98b6d"
      },
      "outputs": [
        {
          "output_type": "execute_result",
          "data": {
            "text/plain": [
              "0            0\n",
              "1            1\n",
              "2            2\n",
              "3            3\n",
              "4            4\n",
              "         ...  \n",
              "13681    13681\n",
              "13682    13682\n",
              "13683    13683\n",
              "13684    13684\n",
              "13685    13685\n",
              "Name: Unnamed: 0, Length: 13686, dtype: int64"
            ]
          },
          "metadata": {},
          "execution_count": 7
        }
      ],
      "source": [
        "#delete the id column\n",
        "df.pop('Unnamed: 0')"
      ]
    },
    {
      "cell_type": "code",
      "execution_count": null,
      "metadata": {
        "colab": {
          "base_uri": "https://localhost:8080/"
        },
        "id": "5hBvRTK9OMp3",
        "outputId": "bdd96d2f-fa9b-40e8-e8d5-a84a9e0b6274"
      },
      "outputs": [
        {
          "output_type": "execute_result",
          "data": {
            "text/plain": [
              "Index(['Sentence', 'Label'], dtype='object')"
            ]
          },
          "metadata": {},
          "execution_count": 8
        }
      ],
      "source": [
        "df.columns"
      ]
    },
    {
      "cell_type": "code",
      "execution_count": null,
      "metadata": {
        "colab": {
          "base_uri": "https://localhost:8080/"
        },
        "id": "H6DdbnKXORFQ",
        "outputId": "f21dfda6-be4c-4ea7-cc8c-4ef5fd515239"
      },
      "outputs": [
        {
          "output_type": "execute_result",
          "data": {
            "text/plain": [
              "2769"
            ]
          },
          "metadata": {},
          "execution_count": 9
        }
      ],
      "source": [
        "#how many duplicates data\n",
        "df.duplicated().sum()"
      ]
    },
    {
      "cell_type": "code",
      "execution_count": null,
      "metadata": {
        "id": "ctv7PwnqOUHA"
      },
      "outputs": [],
      "source": [
        "#remove duplicates \n",
        "df.drop_duplicates(inplace = True)"
      ]
    },
    {
      "cell_type": "code",
      "execution_count": null,
      "metadata": {
        "colab": {
          "base_uri": "https://localhost:8080/"
        },
        "id": "k_du2pUNOXPh",
        "outputId": "d19701f5-9fbc-4f26-aa97-ac72f7a33c00"
      },
      "outputs": [
        {
          "output_type": "execute_result",
          "data": {
            "text/plain": [
              "(10917, 2)"
            ]
          },
          "metadata": {},
          "execution_count": 11
        }
      ],
      "source": [
        "df.shape"
      ]
    },
    {
      "cell_type": "code",
      "execution_count": null,
      "metadata": {
        "colab": {
          "base_uri": "https://localhost:8080/"
        },
        "id": "CcTbNLtdOZ48",
        "outputId": "9541459a-0b3a-4642-bd8d-d2d9b34dafeb"
      },
      "outputs": [
        {
          "output_type": "execute_result",
          "data": {
            "text/plain": [
              "1    0.670789\n",
              "0    0.329211\n",
              "Name: Label, dtype: float64"
            ]
          },
          "metadata": {},
          "execution_count": 12
        }
      ],
      "source": [
        "#how many rows for each class after removing duplicates\n",
        "df['Label'].value_counts(normalize = True)"
      ]
    },
    {
      "cell_type": "markdown",
      "source": [
        "Tokenization"
      ],
      "metadata": {
        "id": "GAfGN0GSavFw"
      }
    },
    {
      "cell_type": "code",
      "execution_count": null,
      "metadata": {
        "colab": {
          "base_uri": "https://localhost:8080/",
          "height": 36
        },
        "id": "v06xFkD2Oc63",
        "outputId": "73b5daa6-9b64-4a70-99e3-d20c3b1bd06f"
      },
      "outputs": [
        {
          "output_type": "execute_result",
          "data": {
            "text/plain": [
              "'less svg gret less meta onload eql alert opbrk int cbrk gret less slsh meta gret'"
            ],
            "application/vnd.google.colaboratory.intrinsic+json": {
              "type": "string"
            }
          },
          "metadata": {},
          "execution_count": 13
        }
      ],
      "source": [
        "#tokenize function \n",
        "def tokenize(payload):\n",
        "    \n",
        "    tokens=payload.lower() #lower case all words\n",
        "\n",
        "    #dictionary for speical characters\n",
        "    Dict = { '<': 'less', '>': 'gret', '/': 'slsh', '=': 'eql', '\"': 'dqout',\n",
        "             ':': 'coln', '(': 'opbrk', ')': 'cbrk', '#': 'hash', '&': 'and',\n",
        "             '-': 'hyph', '_': 'udsc', '{': 'opcrl', '}': 'clcrl', '@': 'at',\n",
        "             '^': 'pow', '.': 'dot', '%': 'perc', '$': 'dolr', '!': 'exlm', \n",
        "             '*': 'all', ';': 'semicoln', '\\\\': 'bslsh', '`': 'backtik', ',': 'coma',\n",
        "             '‘': 'opapost', '’': 'capost', '+': 'plus', '~': 'tlde', '?': 'qusm',\n",
        "             '[': 'opbrnt', ']': 'cbrnt', '\\'': 'sqout', '|': 'pipe', '–': 'dhyph' }\n",
        "    \n",
        "    \n",
        "    #replace special characters with the corresponding words in the dictionary\n",
        "    for token in tokens:\n",
        "        if token in Dict:\n",
        "            Dict[token] = ' '+Dict[token]+' '\n",
        "            tokens=tokens.replace(token, Dict[token])\n",
        "        #regex for replacing integers with 'int'\n",
        "        elif re.search(\"^([0-9]+)$\", token):\n",
        "            tokens=tokens.replace(token, ' int ')\n",
        "    \n",
        "    #tokenize each payload \n",
        "    tokens=word_tokenize(tokens)\n",
        "    return \" \".join(tokens)\n",
        "\n",
        "\n",
        "#test the function        \n",
        "text = '<svg><meta onload=alert(1)></meta>'\n",
        "tokenize(text)"
      ]
    },
    {
      "cell_type": "code",
      "execution_count": null,
      "metadata": {
        "id": "9FrFSvvsOyr_"
      },
      "outputs": [],
      "source": [
        "#add a new column (tokenized_payload) after applying tokenize function on 'Sentence' column\n",
        "df['tokenized_payload'] = df['Sentence'].apply(tokenize)"
      ]
    },
    {
      "cell_type": "code",
      "execution_count": null,
      "metadata": {
        "id": "lyaZP84gO1Xg",
        "colab": {
          "base_uri": "https://localhost:8080/",
          "height": 206
        },
        "outputId": "c7d7c452-b66d-476a-e0b5-08dcd06e6ff7"
      },
      "outputs": [
        {
          "output_type": "execute_result",
          "data": {
            "text/plain": [
              "                                            Sentence  Label  \\\n",
              "0  <li><a href=\"/wiki/File:Socrates.png\" class=\"i...      0   \n",
              "1               <tt onmouseover=\"alert(1)\">test</tt>      1   \n",
              "2  \\t </span> <span class=\"reference-text\">Steeri...      0   \n",
              "3  \\t </span> <span class=\"reference-text\"><cite ...      0   \n",
              "4  \\t </span>. <a href=\"/wiki/Digital_object_iden...      0   \n",
              "\n",
              "                                   tokenized_payload  \n",
              "0  less li gret less a href eql dqout slsh wiki s...  \n",
              "1  less tt onmouseover eql dqout alert opbrk int ...  \n",
              "2  less slsh span gret less span class eql dqout ...  \n",
              "3  less slsh span gret less span class eql dqout ...  \n",
              "4  less slsh span gret dot less a href eql dqout ...  "
            ],
            "text/html": [
              "\n",
              "  <div id=\"df-b3da7a75-c5f9-4c61-aaa3-93929f42300f\">\n",
              "    <div class=\"colab-df-container\">\n",
              "      <div>\n",
              "<style scoped>\n",
              "    .dataframe tbody tr th:only-of-type {\n",
              "        vertical-align: middle;\n",
              "    }\n",
              "\n",
              "    .dataframe tbody tr th {\n",
              "        vertical-align: top;\n",
              "    }\n",
              "\n",
              "    .dataframe thead th {\n",
              "        text-align: right;\n",
              "    }\n",
              "</style>\n",
              "<table border=\"1\" class=\"dataframe\">\n",
              "  <thead>\n",
              "    <tr style=\"text-align: right;\">\n",
              "      <th></th>\n",
              "      <th>Sentence</th>\n",
              "      <th>Label</th>\n",
              "      <th>tokenized_payload</th>\n",
              "    </tr>\n",
              "  </thead>\n",
              "  <tbody>\n",
              "    <tr>\n",
              "      <th>0</th>\n",
              "      <td>&lt;li&gt;&lt;a href=\"/wiki/File:Socrates.png\" class=\"i...</td>\n",
              "      <td>0</td>\n",
              "      <td>less li gret less a href eql dqout slsh wiki s...</td>\n",
              "    </tr>\n",
              "    <tr>\n",
              "      <th>1</th>\n",
              "      <td>&lt;tt onmouseover=\"alert(1)\"&gt;test&lt;/tt&gt;</td>\n",
              "      <td>1</td>\n",
              "      <td>less tt onmouseover eql dqout alert opbrk int ...</td>\n",
              "    </tr>\n",
              "    <tr>\n",
              "      <th>2</th>\n",
              "      <td>\\t &lt;/span&gt; &lt;span class=\"reference-text\"&gt;Steeri...</td>\n",
              "      <td>0</td>\n",
              "      <td>less slsh span gret less span class eql dqout ...</td>\n",
              "    </tr>\n",
              "    <tr>\n",
              "      <th>3</th>\n",
              "      <td>\\t &lt;/span&gt; &lt;span class=\"reference-text\"&gt;&lt;cite ...</td>\n",
              "      <td>0</td>\n",
              "      <td>less slsh span gret less span class eql dqout ...</td>\n",
              "    </tr>\n",
              "    <tr>\n",
              "      <th>4</th>\n",
              "      <td>\\t &lt;/span&gt;. &lt;a href=\"/wiki/Digital_object_iden...</td>\n",
              "      <td>0</td>\n",
              "      <td>less slsh span gret dot less a href eql dqout ...</td>\n",
              "    </tr>\n",
              "  </tbody>\n",
              "</table>\n",
              "</div>\n",
              "      <button class=\"colab-df-convert\" onclick=\"convertToInteractive('df-b3da7a75-c5f9-4c61-aaa3-93929f42300f')\"\n",
              "              title=\"Convert this dataframe to an interactive table.\"\n",
              "              style=\"display:none;\">\n",
              "        \n",
              "  <svg xmlns=\"http://www.w3.org/2000/svg\" height=\"24px\"viewBox=\"0 0 24 24\"\n",
              "       width=\"24px\">\n",
              "    <path d=\"M0 0h24v24H0V0z\" fill=\"none\"/>\n",
              "    <path d=\"M18.56 5.44l.94 2.06.94-2.06 2.06-.94-2.06-.94-.94-2.06-.94 2.06-2.06.94zm-11 1L8.5 8.5l.94-2.06 2.06-.94-2.06-.94L8.5 2.5l-.94 2.06-2.06.94zm10 10l.94 2.06.94-2.06 2.06-.94-2.06-.94-.94-2.06-.94 2.06-2.06.94z\"/><path d=\"M17.41 7.96l-1.37-1.37c-.4-.4-.92-.59-1.43-.59-.52 0-1.04.2-1.43.59L10.3 9.45l-7.72 7.72c-.78.78-.78 2.05 0 2.83L4 21.41c.39.39.9.59 1.41.59.51 0 1.02-.2 1.41-.59l7.78-7.78 2.81-2.81c.8-.78.8-2.07 0-2.86zM5.41 20L4 18.59l7.72-7.72 1.47 1.35L5.41 20z\"/>\n",
              "  </svg>\n",
              "      </button>\n",
              "      \n",
              "  <style>\n",
              "    .colab-df-container {\n",
              "      display:flex;\n",
              "      flex-wrap:wrap;\n",
              "      gap: 12px;\n",
              "    }\n",
              "\n",
              "    .colab-df-convert {\n",
              "      background-color: #E8F0FE;\n",
              "      border: none;\n",
              "      border-radius: 50%;\n",
              "      cursor: pointer;\n",
              "      display: none;\n",
              "      fill: #1967D2;\n",
              "      height: 32px;\n",
              "      padding: 0 0 0 0;\n",
              "      width: 32px;\n",
              "    }\n",
              "\n",
              "    .colab-df-convert:hover {\n",
              "      background-color: #E2EBFA;\n",
              "      box-shadow: 0px 1px 2px rgba(60, 64, 67, 0.3), 0px 1px 3px 1px rgba(60, 64, 67, 0.15);\n",
              "      fill: #174EA6;\n",
              "    }\n",
              "\n",
              "    [theme=dark] .colab-df-convert {\n",
              "      background-color: #3B4455;\n",
              "      fill: #D2E3FC;\n",
              "    }\n",
              "\n",
              "    [theme=dark] .colab-df-convert:hover {\n",
              "      background-color: #434B5C;\n",
              "      box-shadow: 0px 1px 3px 1px rgba(0, 0, 0, 0.15);\n",
              "      filter: drop-shadow(0px 1px 2px rgba(0, 0, 0, 0.3));\n",
              "      fill: #FFFFFF;\n",
              "    }\n",
              "  </style>\n",
              "\n",
              "      <script>\n",
              "        const buttonEl =\n",
              "          document.querySelector('#df-b3da7a75-c5f9-4c61-aaa3-93929f42300f button.colab-df-convert');\n",
              "        buttonEl.style.display =\n",
              "          google.colab.kernel.accessAllowed ? 'block' : 'none';\n",
              "\n",
              "        async function convertToInteractive(key) {\n",
              "          const element = document.querySelector('#df-b3da7a75-c5f9-4c61-aaa3-93929f42300f');\n",
              "          const dataTable =\n",
              "            await google.colab.kernel.invokeFunction('convertToInteractive',\n",
              "                                                     [key], {});\n",
              "          if (!dataTable) return;\n",
              "\n",
              "          const docLinkHtml = 'Like what you see? Visit the ' +\n",
              "            '<a target=\"_blank\" href=https://colab.research.google.com/notebooks/data_table.ipynb>data table notebook</a>'\n",
              "            + ' to learn more about interactive tables.';\n",
              "          element.innerHTML = '';\n",
              "          dataTable['output_type'] = 'display_data';\n",
              "          await google.colab.output.renderOutput(dataTable, element);\n",
              "          const docLink = document.createElement('div');\n",
              "          docLink.innerHTML = docLinkHtml;\n",
              "          element.appendChild(docLink);\n",
              "        }\n",
              "      </script>\n",
              "    </div>\n",
              "  </div>\n",
              "  "
            ]
          },
          "metadata": {},
          "execution_count": 15
        }
      ],
      "source": [
        "df.head()"
      ]
    },
    {
      "cell_type": "code",
      "execution_count": null,
      "metadata": {
        "id": "nUxgHw9vO7Y_"
      },
      "outputs": [],
      "source": [
        "tokenized_payloads = df['tokenized_payload']"
      ]
    },
    {
      "cell_type": "code",
      "execution_count": null,
      "metadata": {
        "id": "1Pp3tlbSO9Ux",
        "colab": {
          "base_uri": "https://localhost:8080/"
        },
        "outputId": "ff5b557d-2866-49ce-8485-868f8295590c"
      },
      "outputs": [
        {
          "output_type": "execute_result",
          "data": {
            "text/plain": [
              "0        less li gret less a href eql dqout slsh wiki s...\n",
              "1        less tt onmouseover eql dqout alert opbrk int ...\n",
              "2        less slsh span gret less span class eql dqout ...\n",
              "3        less slsh span gret less span class eql dqout ...\n",
              "4        less slsh span gret dot less a href eql dqout ...\n",
              "                               ...                        \n",
              "13678    less li gret less a href eql dqout slsh wiki s...\n",
              "13681    less img onpointerenter eql alert opbrk int cb...\n",
              "13682    less source onbeforepaste eql dqout alert opbr...\n",
              "13683    less div draggable eql dqout true dqout conten...\n",
              "13684    less li gret less cite id eql dqout citerefdom...\n",
              "Name: tokenized_payload, Length: 10917, dtype: object"
            ]
          },
          "metadata": {},
          "execution_count": 17
        }
      ],
      "source": [
        "tokenized_payloads"
      ]
    },
    {
      "cell_type": "markdown",
      "source": [
        "**Logistic Regression Classifier**"
      ],
      "metadata": {
        "id": "sR9SfSs2YFEN"
      }
    },
    {
      "cell_type": "code",
      "execution_count": null,
      "metadata": {
        "id": "zYH5GorNKN6s",
        "colab": {
          "base_uri": "https://localhost:8080/"
        },
        "outputId": "280f3cd9-fa1b-40ed-b3aa-23237d376cc5"
      },
      "outputs": [
        {
          "output_type": "stream",
          "name": "stdout",
          "text": [
            "Accuracy: 99.77106227106228\n",
            "              precision    recall  f1-score   support\n",
            "\n",
            "           0       1.00      1.00      1.00       719\n",
            "           1       1.00      1.00      1.00      1465\n",
            "\n",
            "    accuracy                           1.00      2184\n",
            "   macro avg       1.00      1.00      1.00      2184\n",
            "weighted avg       1.00      1.00      1.00      2184\n",
            "\n",
            "[[ 717    2]\n",
            " [   3 1462]]\n"
          ]
        }
      ],
      "source": [
        "#splitting dataset into training and testing \n",
        "X = df['tokenized_payload']\n",
        "y = df['Label']\n",
        "\n",
        "X_train, X_test, y_train, y_test = train_test_split(X, y,test_size=0.2, random_state=42, shuffle=True, stratify=y)\n",
        "\n",
        "#creating the model\n",
        "model = LogisticRegression()\n",
        "\n",
        "#word embedding\n",
        "pipeline_model = Pipeline([('vect', CountVectorizer()),\n",
        "                              ('tfidf', TfidfTransformer()),\n",
        "                              ('clf', model)])\n",
        "\n",
        "#train the model\n",
        "pipeline_model.fit(X_train, y_train)\n",
        "\n",
        "#testing and calculating the accuracy\n",
        "print('Accuracy:', pipeline_model.score(X_test, y_test)*100)\n",
        "\n",
        "#prediction\n",
        "y_pred = pipeline_model.predict(X_test)\n",
        "\n",
        "#print classification report\n",
        "print(classification_report(y_test, y_pred))\n",
        "\n",
        "#confusion matrex\n",
        "conf_matrix = confusion_matrix(y_true=y_test, y_pred=y_pred)\n",
        "print(conf_matrix)"
      ]
    },
    {
      "cell_type": "markdown",
      "source": [
        "**Naive Bayes Classifier**"
      ],
      "metadata": {
        "id": "4r5JukAvYyZG"
      }
    },
    {
      "cell_type": "code",
      "execution_count": null,
      "metadata": {
        "id": "MS6POO12PFKa",
        "colab": {
          "base_uri": "https://localhost:8080/"
        },
        "outputId": "b59ea906-5a6d-41bb-e2a0-94a934b1d999"
      },
      "outputs": [
        {
          "output_type": "stream",
          "name": "stdout",
          "text": [
            "Accuracy: 98.3974358974359\n",
            "              precision    recall  f1-score   support\n",
            "\n",
            "           0       0.99      0.96      0.98       719\n",
            "           1       0.98      1.00      0.99      1465\n",
            "\n",
            "    accuracy                           0.98      2184\n",
            "   macro avg       0.99      0.98      0.98      2184\n",
            "weighted avg       0.98      0.98      0.98      2184\n",
            "\n",
            "[[ 689   30]\n",
            " [   5 1460]]\n"
          ]
        }
      ],
      "source": [
        "\n",
        "#creating the model\n",
        "naive_bayes_model = MultinomialNB()\n",
        "\n",
        "#word embedding\n",
        "pipeline_naive_bayes_model = Pipeline([('vect', CountVectorizer()),\n",
        "                              ('tfidf', TfidfTransformer()),\n",
        "                              ('clf', naive_bayes_model)])\n",
        "\n",
        "#train the model\n",
        "pipeline_naive_bayes_model.fit(X_train, y_train)\n",
        "\n",
        "#testing and calculating the accuracy\n",
        "print('Accuracy:', pipeline_naive_bayes_model.score(X_test, y_test)*100)\n",
        "\n",
        "#prediction\n",
        "y_pred_naive_bayes_model = pipeline_naive_bayes_model.predict(X_test)\n",
        "\n",
        "#print classification report\n",
        "print(classification_report(y_test, y_pred_naive_bayes_model))\n",
        "\n",
        "nb_conf_matrix = confusion_matrix(y_true=y_test, y_pred=y_pred_naive_bayes_model)\n",
        "print(nb_conf_matrix)\n",
        "\n"
      ]
    },
    {
      "cell_type": "markdown",
      "source": [
        "**Support Vector Machine Classifier**"
      ],
      "metadata": {
        "id": "0em5lfRQZW-b"
      }
    },
    {
      "cell_type": "code",
      "execution_count": null,
      "metadata": {
        "id": "bAJyhx8fQGU8",
        "colab": {
          "base_uri": "https://localhost:8080/"
        },
        "outputId": "54929c8b-009e-41f0-93c6-108521a62b77"
      },
      "outputs": [
        {
          "output_type": "stream",
          "name": "stdout",
          "text": [
            "Accuracy: 99.86263736263736\n",
            "              precision    recall  f1-score   support\n",
            "\n",
            "           0       1.00      1.00      1.00       719\n",
            "           1       1.00      1.00      1.00      1465\n",
            "\n",
            "    accuracy                           1.00      2184\n",
            "   macro avg       1.00      1.00      1.00      2184\n",
            "weighted avg       1.00      1.00      1.00      2184\n",
            "\n",
            "[[ 718    1]\n",
            " [   2 1463]]\n"
          ]
        }
      ],
      "source": [
        "\n",
        "SVC_model = SVC()\n",
        "\n",
        "pipeline_SVC_model = Pipeline([('vect', CountVectorizer()),\n",
        "                              ('tfidf', TfidfTransformer()),\n",
        "                              ('clf', SVC_model)])\n",
        "\n",
        "pipeline_SVC_model.fit(X_train, y_train)\n",
        "\n",
        "print('Accuracy:', pipeline_SVC_model.score(X_test, y_test)*100)\n",
        "\n",
        "y_SVC_pred = pipeline_SVC_model.predict(X_test)\n",
        "\n",
        "print(classification_report(y_test, y_SVC_pred))\n",
        "\n",
        "svc_conf_matrix = confusion_matrix(y_true=y_test, y_pred=y_SVC_pred)\n",
        "print(svc_conf_matrix)"
      ]
    },
    {
      "cell_type": "markdown",
      "source": [
        "**Random Forest Classifier**"
      ],
      "metadata": {
        "id": "hjuZd337Ze9C"
      }
    },
    {
      "cell_type": "code",
      "execution_count": null,
      "metadata": {
        "id": "ToQOpzQWQN3o",
        "colab": {
          "base_uri": "https://localhost:8080/"
        },
        "outputId": "16ebc47d-297c-4024-a47f-c8429863d309"
      },
      "outputs": [
        {
          "output_type": "stream",
          "name": "stdout",
          "text": [
            "Accuracy: 99.86263736263736\n",
            "              precision    recall  f1-score   support\n",
            "\n",
            "           0       1.00      1.00      1.00       719\n",
            "           1       1.00      1.00      1.00      1465\n",
            "\n",
            "    accuracy                           1.00      2184\n",
            "   macro avg       1.00      1.00      1.00      2184\n",
            "weighted avg       1.00      1.00      1.00      2184\n",
            "\n",
            "[[ 718    1]\n",
            " [   2 1463]]\n"
          ]
        }
      ],
      "source": [
        "\n",
        "RF_model = RandomForestClassifier()\n",
        "\n",
        "pipeline_RF_model = Pipeline([('vect', CountVectorizer()),\n",
        "                              ('tfidf', TfidfTransformer()),\n",
        "                              ('clf', RF_model)])\n",
        "\n",
        "pipeline_RF_model.fit(X_train, y_train)\n",
        "\n",
        "print('Accuracy:', pipeline_RF_model.score(X_test, y_test)*100)\n",
        "\n",
        "y_RF_pred = pipeline_RF_model.predict(X_test)\n",
        "\n",
        "print(classification_report(y_test, y_RF_pred))\n",
        "\n",
        "rf_conf_matrix = confusion_matrix(y_true=y_test, y_pred=y_RF_pred)\n",
        "print(rf_conf_matrix)"
      ]
    },
    {
      "cell_type": "markdown",
      "source": [
        "**Decision Tree Classifier**"
      ],
      "metadata": {
        "id": "eN7NSUQkZrI8"
      }
    },
    {
      "cell_type": "code",
      "execution_count": null,
      "metadata": {
        "id": "FTgTFBUpQPgS",
        "colab": {
          "base_uri": "https://localhost:8080/"
        },
        "outputId": "733baf9f-0fdc-4379-8382-2839b5dbf73e"
      },
      "outputs": [
        {
          "output_type": "stream",
          "name": "stdout",
          "text": [
            "Accuracy: 99.54212454212454\n",
            "              precision    recall  f1-score   support\n",
            "\n",
            "           0       0.99      1.00      0.99       719\n",
            "           1       1.00      1.00      1.00      1465\n",
            "\n",
            "    accuracy                           1.00      2184\n",
            "   macro avg       0.99      1.00      0.99      2184\n",
            "weighted avg       1.00      1.00      1.00      2184\n",
            "\n",
            "[[ 716    3]\n",
            " [   7 1458]]\n"
          ]
        }
      ],
      "source": [
        "\n",
        "DT_model = DecisionTreeClassifier()\n",
        "\n",
        "\n",
        "#word embedding\n",
        "pipeline_DT_model = Pipeline([('vect', CountVectorizer()),\n",
        "                              ('tfidf', TfidfTransformer()),\n",
        "                              ('clf', DT_model)])\n",
        "\n",
        "pipeline_DT_model.fit(X_train, y_train) #train the model\n",
        "\n",
        "#testing and calculating the accuracy\n",
        "print('Accuracy:', pipeline_DT_model.score(X_test, y_test)*100)\n",
        "\n",
        "#predicting\n",
        "y_DT_pred = pipeline_DT_model.predict(X_test)\n",
        "\n",
        "print(classification_report(y_test, y_DT_pred))\n",
        "\n",
        "dt_conf_matrix = confusion_matrix(y_true=y_test, y_pred=y_DT_pred)\n",
        "print(dt_conf_matrix)"
      ]
    },
    {
      "cell_type": "markdown",
      "source": [
        "**FastText Model**"
      ],
      "metadata": {
        "id": "hh9a8lAEIDGE"
      }
    },
    {
      "cell_type": "code",
      "execution_count": null,
      "metadata": {
        "id": "6SxFLWyms9JD"
      },
      "outputs": [],
      "source": [
        "#splitting dataset into training and testing\n",
        "train, test = train_test_split(df, test_size=0.2, random_state=42, shuffle=True, stratify=y)\n",
        "#save in csv files\n",
        "train.to_csv('/content/train.csv',index=False)\n",
        "test.to_csv('/content/test.csv',index=False)"
      ]
    },
    {
      "cell_type": "code",
      "execution_count": null,
      "metadata": {
        "id": "FbYYTTrWtnJo"
      },
      "outputs": [],
      "source": [
        "#read csv files\n",
        "train = pd.read_csv(\"/content/train.csv\")\n",
        "test = pd.read_csv(\"/content/test.csv\")"
      ]
    },
    {
      "cell_type": "code",
      "execution_count": null,
      "metadata": {
        "id": "gMKqSm0gu_gC",
        "colab": {
          "base_uri": "https://localhost:8080/",
          "height": 206
        },
        "outputId": "03a74abc-d04f-4ba8-fe9c-210652295dc1"
      },
      "outputs": [
        {
          "output_type": "execute_result",
          "data": {
            "text/plain": [
              "                                            Sentence  Label  \\\n",
              "0  <li class=\"toctree-l1\"><a class=\"reference int...      0   \n",
              "1  <div draggable=\"true\" contenteditable>drag me<...      1   \n",
              "2  <button draggable=\"true\" ondragleave=\"alert(1)...      1   \n",
              "3               <map onpointerout=alert(1)>XSS</map>      1   \n",
              "4    <!DOCTYPE html><html class=\"no-js\" lang=\"en\" >       0   \n",
              "\n",
              "                                   tokenized_payload  \n",
              "0  less li class eql dqout toctree hyph l int dqo...  \n",
              "1  less div draggable eql dqout true dqout conten...  \n",
              "2  less button draggable eql dqout true dqout ond...  \n",
              "3  less map onpointerout eql alert opbrk int cbrk...  \n",
              "4  less exlm doctype html gret less html class eq...  "
            ],
            "text/html": [
              "\n",
              "  <div id=\"df-bb0d06b1-b0ed-424e-840d-a82b8593821d\">\n",
              "    <div class=\"colab-df-container\">\n",
              "      <div>\n",
              "<style scoped>\n",
              "    .dataframe tbody tr th:only-of-type {\n",
              "        vertical-align: middle;\n",
              "    }\n",
              "\n",
              "    .dataframe tbody tr th {\n",
              "        vertical-align: top;\n",
              "    }\n",
              "\n",
              "    .dataframe thead th {\n",
              "        text-align: right;\n",
              "    }\n",
              "</style>\n",
              "<table border=\"1\" class=\"dataframe\">\n",
              "  <thead>\n",
              "    <tr style=\"text-align: right;\">\n",
              "      <th></th>\n",
              "      <th>Sentence</th>\n",
              "      <th>Label</th>\n",
              "      <th>tokenized_payload</th>\n",
              "    </tr>\n",
              "  </thead>\n",
              "  <tbody>\n",
              "    <tr>\n",
              "      <th>0</th>\n",
              "      <td>&lt;li class=\"toctree-l1\"&gt;&lt;a class=\"reference int...</td>\n",
              "      <td>0</td>\n",
              "      <td>less li class eql dqout toctree hyph l int dqo...</td>\n",
              "    </tr>\n",
              "    <tr>\n",
              "      <th>1</th>\n",
              "      <td>&lt;div draggable=\"true\" contenteditable&gt;drag me&lt;...</td>\n",
              "      <td>1</td>\n",
              "      <td>less div draggable eql dqout true dqout conten...</td>\n",
              "    </tr>\n",
              "    <tr>\n",
              "      <th>2</th>\n",
              "      <td>&lt;button draggable=\"true\" ondragleave=\"alert(1)...</td>\n",
              "      <td>1</td>\n",
              "      <td>less button draggable eql dqout true dqout ond...</td>\n",
              "    </tr>\n",
              "    <tr>\n",
              "      <th>3</th>\n",
              "      <td>&lt;map onpointerout=alert(1)&gt;XSS&lt;/map&gt;</td>\n",
              "      <td>1</td>\n",
              "      <td>less map onpointerout eql alert opbrk int cbrk...</td>\n",
              "    </tr>\n",
              "    <tr>\n",
              "      <th>4</th>\n",
              "      <td>&lt;!DOCTYPE html&gt;&lt;html class=\"no-js\" lang=\"en\" &gt;</td>\n",
              "      <td>0</td>\n",
              "      <td>less exlm doctype html gret less html class eq...</td>\n",
              "    </tr>\n",
              "  </tbody>\n",
              "</table>\n",
              "</div>\n",
              "      <button class=\"colab-df-convert\" onclick=\"convertToInteractive('df-bb0d06b1-b0ed-424e-840d-a82b8593821d')\"\n",
              "              title=\"Convert this dataframe to an interactive table.\"\n",
              "              style=\"display:none;\">\n",
              "        \n",
              "  <svg xmlns=\"http://www.w3.org/2000/svg\" height=\"24px\"viewBox=\"0 0 24 24\"\n",
              "       width=\"24px\">\n",
              "    <path d=\"M0 0h24v24H0V0z\" fill=\"none\"/>\n",
              "    <path d=\"M18.56 5.44l.94 2.06.94-2.06 2.06-.94-2.06-.94-.94-2.06-.94 2.06-2.06.94zm-11 1L8.5 8.5l.94-2.06 2.06-.94-2.06-.94L8.5 2.5l-.94 2.06-2.06.94zm10 10l.94 2.06.94-2.06 2.06-.94-2.06-.94-.94-2.06-.94 2.06-2.06.94z\"/><path d=\"M17.41 7.96l-1.37-1.37c-.4-.4-.92-.59-1.43-.59-.52 0-1.04.2-1.43.59L10.3 9.45l-7.72 7.72c-.78.78-.78 2.05 0 2.83L4 21.41c.39.39.9.59 1.41.59.51 0 1.02-.2 1.41-.59l7.78-7.78 2.81-2.81c.8-.78.8-2.07 0-2.86zM5.41 20L4 18.59l7.72-7.72 1.47 1.35L5.41 20z\"/>\n",
              "  </svg>\n",
              "      </button>\n",
              "      \n",
              "  <style>\n",
              "    .colab-df-container {\n",
              "      display:flex;\n",
              "      flex-wrap:wrap;\n",
              "      gap: 12px;\n",
              "    }\n",
              "\n",
              "    .colab-df-convert {\n",
              "      background-color: #E8F0FE;\n",
              "      border: none;\n",
              "      border-radius: 50%;\n",
              "      cursor: pointer;\n",
              "      display: none;\n",
              "      fill: #1967D2;\n",
              "      height: 32px;\n",
              "      padding: 0 0 0 0;\n",
              "      width: 32px;\n",
              "    }\n",
              "\n",
              "    .colab-df-convert:hover {\n",
              "      background-color: #E2EBFA;\n",
              "      box-shadow: 0px 1px 2px rgba(60, 64, 67, 0.3), 0px 1px 3px 1px rgba(60, 64, 67, 0.15);\n",
              "      fill: #174EA6;\n",
              "    }\n",
              "\n",
              "    [theme=dark] .colab-df-convert {\n",
              "      background-color: #3B4455;\n",
              "      fill: #D2E3FC;\n",
              "    }\n",
              "\n",
              "    [theme=dark] .colab-df-convert:hover {\n",
              "      background-color: #434B5C;\n",
              "      box-shadow: 0px 1px 3px 1px rgba(0, 0, 0, 0.15);\n",
              "      filter: drop-shadow(0px 1px 2px rgba(0, 0, 0, 0.3));\n",
              "      fill: #FFFFFF;\n",
              "    }\n",
              "  </style>\n",
              "\n",
              "      <script>\n",
              "        const buttonEl =\n",
              "          document.querySelector('#df-bb0d06b1-b0ed-424e-840d-a82b8593821d button.colab-df-convert');\n",
              "        buttonEl.style.display =\n",
              "          google.colab.kernel.accessAllowed ? 'block' : 'none';\n",
              "\n",
              "        async function convertToInteractive(key) {\n",
              "          const element = document.querySelector('#df-bb0d06b1-b0ed-424e-840d-a82b8593821d');\n",
              "          const dataTable =\n",
              "            await google.colab.kernel.invokeFunction('convertToInteractive',\n",
              "                                                     [key], {});\n",
              "          if (!dataTable) return;\n",
              "\n",
              "          const docLinkHtml = 'Like what you see? Visit the ' +\n",
              "            '<a target=\"_blank\" href=https://colab.research.google.com/notebooks/data_table.ipynb>data table notebook</a>'\n",
              "            + ' to learn more about interactive tables.';\n",
              "          element.innerHTML = '';\n",
              "          dataTable['output_type'] = 'display_data';\n",
              "          await google.colab.output.renderOutput(dataTable, element);\n",
              "          const docLink = document.createElement('div');\n",
              "          docLink.innerHTML = docLinkHtml;\n",
              "          element.appendChild(docLink);\n",
              "        }\n",
              "      </script>\n",
              "    </div>\n",
              "  </div>\n",
              "  "
            ]
          },
          "metadata": {},
          "execution_count": 25
        }
      ],
      "source": [
        "train.head()"
      ]
    },
    {
      "cell_type": "code",
      "execution_count": null,
      "metadata": {
        "id": "x0gHDC6WwJev",
        "colab": {
          "base_uri": "https://localhost:8080/"
        },
        "outputId": "6630e785-1bff-4a04-9166-39b79c54cd2e"
      },
      "outputs": [
        {
          "output_type": "execute_result",
          "data": {
            "text/plain": [
              "0       <li class=\"toctree-l1\"><a class=\"reference int...\n",
              "1       <div draggable=\"true\" contenteditable>drag me<...\n",
              "2       <button draggable=\"true\" ondragleave=\"alert(1)...\n",
              "3                    <map onpointerout=alert(1)>XSS</map>\n",
              "4         <!DOCTYPE html><html class=\"no-js\" lang=\"en\" > \n",
              "                              ...                        \n",
              "8728    <style>:target {transform: rotate(180deg);}</s...\n",
              "8729    <menuitem id=x tabindex=1 onfocus=alert(1)></m...\n",
              "8730    <li><cite id=\"CITEREFMaker2006\" class=\"citatio...\n",
              "8731                   <s onmousemove=\"alert(1)\">test</s>\n",
              "8732    <font id=x tabindex=1 onactivate=alert(1)></font>\n",
              "Name: Sentence, Length: 8733, dtype: object"
            ]
          },
          "metadata": {},
          "execution_count": 26
        }
      ],
      "source": [
        "#remove 'Sentence' column\n",
        "train.pop('Sentence')"
      ]
    },
    {
      "cell_type": "code",
      "execution_count": null,
      "metadata": {
        "id": "gw07FnEFwSA-",
        "colab": {
          "base_uri": "https://localhost:8080/",
          "height": 206
        },
        "outputId": "a1f4c03f-8309-4536-d731-f17054a1853f"
      },
      "outputs": [
        {
          "output_type": "execute_result",
          "data": {
            "text/plain": [
              "   Label                                  tokenized_payload\n",
              "0      0  less li class eql dqout toctree hyph l int dqo...\n",
              "1      1  less div draggable eql dqout true dqout conten...\n",
              "2      1  less button draggable eql dqout true dqout ond...\n",
              "3      1  less map onpointerout eql alert opbrk int cbrk...\n",
              "4      0  less exlm doctype html gret less html class eq..."
            ],
            "text/html": [
              "\n",
              "  <div id=\"df-3755f30b-e679-472e-b7e2-d71c4667bff3\">\n",
              "    <div class=\"colab-df-container\">\n",
              "      <div>\n",
              "<style scoped>\n",
              "    .dataframe tbody tr th:only-of-type {\n",
              "        vertical-align: middle;\n",
              "    }\n",
              "\n",
              "    .dataframe tbody tr th {\n",
              "        vertical-align: top;\n",
              "    }\n",
              "\n",
              "    .dataframe thead th {\n",
              "        text-align: right;\n",
              "    }\n",
              "</style>\n",
              "<table border=\"1\" class=\"dataframe\">\n",
              "  <thead>\n",
              "    <tr style=\"text-align: right;\">\n",
              "      <th></th>\n",
              "      <th>Label</th>\n",
              "      <th>tokenized_payload</th>\n",
              "    </tr>\n",
              "  </thead>\n",
              "  <tbody>\n",
              "    <tr>\n",
              "      <th>0</th>\n",
              "      <td>0</td>\n",
              "      <td>less li class eql dqout toctree hyph l int dqo...</td>\n",
              "    </tr>\n",
              "    <tr>\n",
              "      <th>1</th>\n",
              "      <td>1</td>\n",
              "      <td>less div draggable eql dqout true dqout conten...</td>\n",
              "    </tr>\n",
              "    <tr>\n",
              "      <th>2</th>\n",
              "      <td>1</td>\n",
              "      <td>less button draggable eql dqout true dqout ond...</td>\n",
              "    </tr>\n",
              "    <tr>\n",
              "      <th>3</th>\n",
              "      <td>1</td>\n",
              "      <td>less map onpointerout eql alert opbrk int cbrk...</td>\n",
              "    </tr>\n",
              "    <tr>\n",
              "      <th>4</th>\n",
              "      <td>0</td>\n",
              "      <td>less exlm doctype html gret less html class eq...</td>\n",
              "    </tr>\n",
              "  </tbody>\n",
              "</table>\n",
              "</div>\n",
              "      <button class=\"colab-df-convert\" onclick=\"convertToInteractive('df-3755f30b-e679-472e-b7e2-d71c4667bff3')\"\n",
              "              title=\"Convert this dataframe to an interactive table.\"\n",
              "              style=\"display:none;\">\n",
              "        \n",
              "  <svg xmlns=\"http://www.w3.org/2000/svg\" height=\"24px\"viewBox=\"0 0 24 24\"\n",
              "       width=\"24px\">\n",
              "    <path d=\"M0 0h24v24H0V0z\" fill=\"none\"/>\n",
              "    <path d=\"M18.56 5.44l.94 2.06.94-2.06 2.06-.94-2.06-.94-.94-2.06-.94 2.06-2.06.94zm-11 1L8.5 8.5l.94-2.06 2.06-.94-2.06-.94L8.5 2.5l-.94 2.06-2.06.94zm10 10l.94 2.06.94-2.06 2.06-.94-2.06-.94-.94-2.06-.94 2.06-2.06.94z\"/><path d=\"M17.41 7.96l-1.37-1.37c-.4-.4-.92-.59-1.43-.59-.52 0-1.04.2-1.43.59L10.3 9.45l-7.72 7.72c-.78.78-.78 2.05 0 2.83L4 21.41c.39.39.9.59 1.41.59.51 0 1.02-.2 1.41-.59l7.78-7.78 2.81-2.81c.8-.78.8-2.07 0-2.86zM5.41 20L4 18.59l7.72-7.72 1.47 1.35L5.41 20z\"/>\n",
              "  </svg>\n",
              "      </button>\n",
              "      \n",
              "  <style>\n",
              "    .colab-df-container {\n",
              "      display:flex;\n",
              "      flex-wrap:wrap;\n",
              "      gap: 12px;\n",
              "    }\n",
              "\n",
              "    .colab-df-convert {\n",
              "      background-color: #E8F0FE;\n",
              "      border: none;\n",
              "      border-radius: 50%;\n",
              "      cursor: pointer;\n",
              "      display: none;\n",
              "      fill: #1967D2;\n",
              "      height: 32px;\n",
              "      padding: 0 0 0 0;\n",
              "      width: 32px;\n",
              "    }\n",
              "\n",
              "    .colab-df-convert:hover {\n",
              "      background-color: #E2EBFA;\n",
              "      box-shadow: 0px 1px 2px rgba(60, 64, 67, 0.3), 0px 1px 3px 1px rgba(60, 64, 67, 0.15);\n",
              "      fill: #174EA6;\n",
              "    }\n",
              "\n",
              "    [theme=dark] .colab-df-convert {\n",
              "      background-color: #3B4455;\n",
              "      fill: #D2E3FC;\n",
              "    }\n",
              "\n",
              "    [theme=dark] .colab-df-convert:hover {\n",
              "      background-color: #434B5C;\n",
              "      box-shadow: 0px 1px 3px 1px rgba(0, 0, 0, 0.15);\n",
              "      filter: drop-shadow(0px 1px 2px rgba(0, 0, 0, 0.3));\n",
              "      fill: #FFFFFF;\n",
              "    }\n",
              "  </style>\n",
              "\n",
              "      <script>\n",
              "        const buttonEl =\n",
              "          document.querySelector('#df-3755f30b-e679-472e-b7e2-d71c4667bff3 button.colab-df-convert');\n",
              "        buttonEl.style.display =\n",
              "          google.colab.kernel.accessAllowed ? 'block' : 'none';\n",
              "\n",
              "        async function convertToInteractive(key) {\n",
              "          const element = document.querySelector('#df-3755f30b-e679-472e-b7e2-d71c4667bff3');\n",
              "          const dataTable =\n",
              "            await google.colab.kernel.invokeFunction('convertToInteractive',\n",
              "                                                     [key], {});\n",
              "          if (!dataTable) return;\n",
              "\n",
              "          const docLinkHtml = 'Like what you see? Visit the ' +\n",
              "            '<a target=\"_blank\" href=https://colab.research.google.com/notebooks/data_table.ipynb>data table notebook</a>'\n",
              "            + ' to learn more about interactive tables.';\n",
              "          element.innerHTML = '';\n",
              "          dataTable['output_type'] = 'display_data';\n",
              "          await google.colab.output.renderOutput(dataTable, element);\n",
              "          const docLink = document.createElement('div');\n",
              "          docLink.innerHTML = docLinkHtml;\n",
              "          element.appendChild(docLink);\n",
              "        }\n",
              "      </script>\n",
              "    </div>\n",
              "  </div>\n",
              "  "
            ]
          },
          "metadata": {},
          "execution_count": 27
        }
      ],
      "source": [
        "train.head()"
      ]
    },
    {
      "cell_type": "code",
      "execution_count": null,
      "metadata": {
        "id": "2fSG_Sb6wlN8"
      },
      "outputs": [],
      "source": [
        "#add __label__ \n",
        "train['Label'] = train['Label'].map({0:'__label__Nonmalicious', 1:'__label__Malicious'})"
      ]
    },
    {
      "cell_type": "code",
      "execution_count": null,
      "metadata": {
        "id": "qHARWjjMxI0Z",
        "colab": {
          "base_uri": "https://localhost:8080/",
          "height": 206
        },
        "outputId": "379b735e-9e4b-42bb-e944-9ab262e0e53b"
      },
      "outputs": [
        {
          "output_type": "execute_result",
          "data": {
            "text/plain": [
              "                   Label                                  tokenized_payload\n",
              "0  __label__Nonmalicious  less li class eql dqout toctree hyph l int dqo...\n",
              "1     __label__Malicious  less div draggable eql dqout true dqout conten...\n",
              "2     __label__Malicious  less button draggable eql dqout true dqout ond...\n",
              "3     __label__Malicious  less map onpointerout eql alert opbrk int cbrk...\n",
              "4  __label__Nonmalicious  less exlm doctype html gret less html class eq..."
            ],
            "text/html": [
              "\n",
              "  <div id=\"df-229a5ff3-e132-4219-bde1-15ba089fae0b\">\n",
              "    <div class=\"colab-df-container\">\n",
              "      <div>\n",
              "<style scoped>\n",
              "    .dataframe tbody tr th:only-of-type {\n",
              "        vertical-align: middle;\n",
              "    }\n",
              "\n",
              "    .dataframe tbody tr th {\n",
              "        vertical-align: top;\n",
              "    }\n",
              "\n",
              "    .dataframe thead th {\n",
              "        text-align: right;\n",
              "    }\n",
              "</style>\n",
              "<table border=\"1\" class=\"dataframe\">\n",
              "  <thead>\n",
              "    <tr style=\"text-align: right;\">\n",
              "      <th></th>\n",
              "      <th>Label</th>\n",
              "      <th>tokenized_payload</th>\n",
              "    </tr>\n",
              "  </thead>\n",
              "  <tbody>\n",
              "    <tr>\n",
              "      <th>0</th>\n",
              "      <td>__label__Nonmalicious</td>\n",
              "      <td>less li class eql dqout toctree hyph l int dqo...</td>\n",
              "    </tr>\n",
              "    <tr>\n",
              "      <th>1</th>\n",
              "      <td>__label__Malicious</td>\n",
              "      <td>less div draggable eql dqout true dqout conten...</td>\n",
              "    </tr>\n",
              "    <tr>\n",
              "      <th>2</th>\n",
              "      <td>__label__Malicious</td>\n",
              "      <td>less button draggable eql dqout true dqout ond...</td>\n",
              "    </tr>\n",
              "    <tr>\n",
              "      <th>3</th>\n",
              "      <td>__label__Malicious</td>\n",
              "      <td>less map onpointerout eql alert opbrk int cbrk...</td>\n",
              "    </tr>\n",
              "    <tr>\n",
              "      <th>4</th>\n",
              "      <td>__label__Nonmalicious</td>\n",
              "      <td>less exlm doctype html gret less html class eq...</td>\n",
              "    </tr>\n",
              "  </tbody>\n",
              "</table>\n",
              "</div>\n",
              "      <button class=\"colab-df-convert\" onclick=\"convertToInteractive('df-229a5ff3-e132-4219-bde1-15ba089fae0b')\"\n",
              "              title=\"Convert this dataframe to an interactive table.\"\n",
              "              style=\"display:none;\">\n",
              "        \n",
              "  <svg xmlns=\"http://www.w3.org/2000/svg\" height=\"24px\"viewBox=\"0 0 24 24\"\n",
              "       width=\"24px\">\n",
              "    <path d=\"M0 0h24v24H0V0z\" fill=\"none\"/>\n",
              "    <path d=\"M18.56 5.44l.94 2.06.94-2.06 2.06-.94-2.06-.94-.94-2.06-.94 2.06-2.06.94zm-11 1L8.5 8.5l.94-2.06 2.06-.94-2.06-.94L8.5 2.5l-.94 2.06-2.06.94zm10 10l.94 2.06.94-2.06 2.06-.94-2.06-.94-.94-2.06-.94 2.06-2.06.94z\"/><path d=\"M17.41 7.96l-1.37-1.37c-.4-.4-.92-.59-1.43-.59-.52 0-1.04.2-1.43.59L10.3 9.45l-7.72 7.72c-.78.78-.78 2.05 0 2.83L4 21.41c.39.39.9.59 1.41.59.51 0 1.02-.2 1.41-.59l7.78-7.78 2.81-2.81c.8-.78.8-2.07 0-2.86zM5.41 20L4 18.59l7.72-7.72 1.47 1.35L5.41 20z\"/>\n",
              "  </svg>\n",
              "      </button>\n",
              "      \n",
              "  <style>\n",
              "    .colab-df-container {\n",
              "      display:flex;\n",
              "      flex-wrap:wrap;\n",
              "      gap: 12px;\n",
              "    }\n",
              "\n",
              "    .colab-df-convert {\n",
              "      background-color: #E8F0FE;\n",
              "      border: none;\n",
              "      border-radius: 50%;\n",
              "      cursor: pointer;\n",
              "      display: none;\n",
              "      fill: #1967D2;\n",
              "      height: 32px;\n",
              "      padding: 0 0 0 0;\n",
              "      width: 32px;\n",
              "    }\n",
              "\n",
              "    .colab-df-convert:hover {\n",
              "      background-color: #E2EBFA;\n",
              "      box-shadow: 0px 1px 2px rgba(60, 64, 67, 0.3), 0px 1px 3px 1px rgba(60, 64, 67, 0.15);\n",
              "      fill: #174EA6;\n",
              "    }\n",
              "\n",
              "    [theme=dark] .colab-df-convert {\n",
              "      background-color: #3B4455;\n",
              "      fill: #D2E3FC;\n",
              "    }\n",
              "\n",
              "    [theme=dark] .colab-df-convert:hover {\n",
              "      background-color: #434B5C;\n",
              "      box-shadow: 0px 1px 3px 1px rgba(0, 0, 0, 0.15);\n",
              "      filter: drop-shadow(0px 1px 2px rgba(0, 0, 0, 0.3));\n",
              "      fill: #FFFFFF;\n",
              "    }\n",
              "  </style>\n",
              "\n",
              "      <script>\n",
              "        const buttonEl =\n",
              "          document.querySelector('#df-229a5ff3-e132-4219-bde1-15ba089fae0b button.colab-df-convert');\n",
              "        buttonEl.style.display =\n",
              "          google.colab.kernel.accessAllowed ? 'block' : 'none';\n",
              "\n",
              "        async function convertToInteractive(key) {\n",
              "          const element = document.querySelector('#df-229a5ff3-e132-4219-bde1-15ba089fae0b');\n",
              "          const dataTable =\n",
              "            await google.colab.kernel.invokeFunction('convertToInteractive',\n",
              "                                                     [key], {});\n",
              "          if (!dataTable) return;\n",
              "\n",
              "          const docLinkHtml = 'Like what you see? Visit the ' +\n",
              "            '<a target=\"_blank\" href=https://colab.research.google.com/notebooks/data_table.ipynb>data table notebook</a>'\n",
              "            + ' to learn more about interactive tables.';\n",
              "          element.innerHTML = '';\n",
              "          dataTable['output_type'] = 'display_data';\n",
              "          await google.colab.output.renderOutput(dataTable, element);\n",
              "          const docLink = document.createElement('div');\n",
              "          docLink.innerHTML = docLinkHtml;\n",
              "          element.appendChild(docLink);\n",
              "        }\n",
              "      </script>\n",
              "    </div>\n",
              "  </div>\n",
              "  "
            ]
          },
          "metadata": {},
          "execution_count": 29
        }
      ],
      "source": [
        "train.head()"
      ]
    },
    {
      "cell_type": "code",
      "execution_count": null,
      "metadata": {
        "id": "IC5xQ92E3HJS"
      },
      "outputs": [],
      "source": [
        "#add __label__ \n",
        "test['Label'] = test['Label'].map({0:'__label__Nonmalicious', 1:'__label__Malicious'})"
      ]
    },
    {
      "cell_type": "code",
      "execution_count": null,
      "metadata": {
        "id": "Ae46IAmf3MjP",
        "colab": {
          "base_uri": "https://localhost:8080/",
          "height": 206
        },
        "outputId": "7285d328-750d-4f53-e485-b0d2a9e05874"
      },
      "outputs": [
        {
          "output_type": "execute_result",
          "data": {
            "text/plain": [
              "                                            Sentence                  Label  \\\n",
              "0        <keygen onpointerdown=alert(1)>XSS</keygen>     __label__Malicious   \n",
              "1  <link id=x tabindex=1 ondeactivate=alert(1)></...     __label__Malicious   \n",
              "2  <li id=\"cite_note-sak2014-269\"><span class=\"mw...  __label__Nonmalicious   \n",
              "3           <pre oncontextmenu=\"alert(1)\">test</pre>     __label__Malicious   \n",
              "4  <center onkeydown=\"alert(1)\" contenteditable>t...     __label__Malicious   \n",
              "\n",
              "                                   tokenized_payload  \n",
              "0  less keygen onpointerdown eql alert opbrk int ...  \n",
              "1  less link id eql x tabindex eql int ondeactiva...  \n",
              "2  less li id eql dqout cite udsc note hyph sak i...  \n",
              "3  less pre oncontextmenu eql dqout alert opbrk i...  \n",
              "4  less center onkeydown eql dqout alert opbrk in...  "
            ],
            "text/html": [
              "\n",
              "  <div id=\"df-54bca660-8e88-47a4-b746-9b1f1f6a84d7\">\n",
              "    <div class=\"colab-df-container\">\n",
              "      <div>\n",
              "<style scoped>\n",
              "    .dataframe tbody tr th:only-of-type {\n",
              "        vertical-align: middle;\n",
              "    }\n",
              "\n",
              "    .dataframe tbody tr th {\n",
              "        vertical-align: top;\n",
              "    }\n",
              "\n",
              "    .dataframe thead th {\n",
              "        text-align: right;\n",
              "    }\n",
              "</style>\n",
              "<table border=\"1\" class=\"dataframe\">\n",
              "  <thead>\n",
              "    <tr style=\"text-align: right;\">\n",
              "      <th></th>\n",
              "      <th>Sentence</th>\n",
              "      <th>Label</th>\n",
              "      <th>tokenized_payload</th>\n",
              "    </tr>\n",
              "  </thead>\n",
              "  <tbody>\n",
              "    <tr>\n",
              "      <th>0</th>\n",
              "      <td>&lt;keygen onpointerdown=alert(1)&gt;XSS&lt;/keygen&gt;</td>\n",
              "      <td>__label__Malicious</td>\n",
              "      <td>less keygen onpointerdown eql alert opbrk int ...</td>\n",
              "    </tr>\n",
              "    <tr>\n",
              "      <th>1</th>\n",
              "      <td>&lt;link id=x tabindex=1 ondeactivate=alert(1)&gt;&lt;/...</td>\n",
              "      <td>__label__Malicious</td>\n",
              "      <td>less link id eql x tabindex eql int ondeactiva...</td>\n",
              "    </tr>\n",
              "    <tr>\n",
              "      <th>2</th>\n",
              "      <td>&lt;li id=\"cite_note-sak2014-269\"&gt;&lt;span class=\"mw...</td>\n",
              "      <td>__label__Nonmalicious</td>\n",
              "      <td>less li id eql dqout cite udsc note hyph sak i...</td>\n",
              "    </tr>\n",
              "    <tr>\n",
              "      <th>3</th>\n",
              "      <td>&lt;pre oncontextmenu=\"alert(1)\"&gt;test&lt;/pre&gt;</td>\n",
              "      <td>__label__Malicious</td>\n",
              "      <td>less pre oncontextmenu eql dqout alert opbrk i...</td>\n",
              "    </tr>\n",
              "    <tr>\n",
              "      <th>4</th>\n",
              "      <td>&lt;center onkeydown=\"alert(1)\" contenteditable&gt;t...</td>\n",
              "      <td>__label__Malicious</td>\n",
              "      <td>less center onkeydown eql dqout alert opbrk in...</td>\n",
              "    </tr>\n",
              "  </tbody>\n",
              "</table>\n",
              "</div>\n",
              "      <button class=\"colab-df-convert\" onclick=\"convertToInteractive('df-54bca660-8e88-47a4-b746-9b1f1f6a84d7')\"\n",
              "              title=\"Convert this dataframe to an interactive table.\"\n",
              "              style=\"display:none;\">\n",
              "        \n",
              "  <svg xmlns=\"http://www.w3.org/2000/svg\" height=\"24px\"viewBox=\"0 0 24 24\"\n",
              "       width=\"24px\">\n",
              "    <path d=\"M0 0h24v24H0V0z\" fill=\"none\"/>\n",
              "    <path d=\"M18.56 5.44l.94 2.06.94-2.06 2.06-.94-2.06-.94-.94-2.06-.94 2.06-2.06.94zm-11 1L8.5 8.5l.94-2.06 2.06-.94-2.06-.94L8.5 2.5l-.94 2.06-2.06.94zm10 10l.94 2.06.94-2.06 2.06-.94-2.06-.94-.94-2.06-.94 2.06-2.06.94z\"/><path d=\"M17.41 7.96l-1.37-1.37c-.4-.4-.92-.59-1.43-.59-.52 0-1.04.2-1.43.59L10.3 9.45l-7.72 7.72c-.78.78-.78 2.05 0 2.83L4 21.41c.39.39.9.59 1.41.59.51 0 1.02-.2 1.41-.59l7.78-7.78 2.81-2.81c.8-.78.8-2.07 0-2.86zM5.41 20L4 18.59l7.72-7.72 1.47 1.35L5.41 20z\"/>\n",
              "  </svg>\n",
              "      </button>\n",
              "      \n",
              "  <style>\n",
              "    .colab-df-container {\n",
              "      display:flex;\n",
              "      flex-wrap:wrap;\n",
              "      gap: 12px;\n",
              "    }\n",
              "\n",
              "    .colab-df-convert {\n",
              "      background-color: #E8F0FE;\n",
              "      border: none;\n",
              "      border-radius: 50%;\n",
              "      cursor: pointer;\n",
              "      display: none;\n",
              "      fill: #1967D2;\n",
              "      height: 32px;\n",
              "      padding: 0 0 0 0;\n",
              "      width: 32px;\n",
              "    }\n",
              "\n",
              "    .colab-df-convert:hover {\n",
              "      background-color: #E2EBFA;\n",
              "      box-shadow: 0px 1px 2px rgba(60, 64, 67, 0.3), 0px 1px 3px 1px rgba(60, 64, 67, 0.15);\n",
              "      fill: #174EA6;\n",
              "    }\n",
              "\n",
              "    [theme=dark] .colab-df-convert {\n",
              "      background-color: #3B4455;\n",
              "      fill: #D2E3FC;\n",
              "    }\n",
              "\n",
              "    [theme=dark] .colab-df-convert:hover {\n",
              "      background-color: #434B5C;\n",
              "      box-shadow: 0px 1px 3px 1px rgba(0, 0, 0, 0.15);\n",
              "      filter: drop-shadow(0px 1px 2px rgba(0, 0, 0, 0.3));\n",
              "      fill: #FFFFFF;\n",
              "    }\n",
              "  </style>\n",
              "\n",
              "      <script>\n",
              "        const buttonEl =\n",
              "          document.querySelector('#df-54bca660-8e88-47a4-b746-9b1f1f6a84d7 button.colab-df-convert');\n",
              "        buttonEl.style.display =\n",
              "          google.colab.kernel.accessAllowed ? 'block' : 'none';\n",
              "\n",
              "        async function convertToInteractive(key) {\n",
              "          const element = document.querySelector('#df-54bca660-8e88-47a4-b746-9b1f1f6a84d7');\n",
              "          const dataTable =\n",
              "            await google.colab.kernel.invokeFunction('convertToInteractive',\n",
              "                                                     [key], {});\n",
              "          if (!dataTable) return;\n",
              "\n",
              "          const docLinkHtml = 'Like what you see? Visit the ' +\n",
              "            '<a target=\"_blank\" href=https://colab.research.google.com/notebooks/data_table.ipynb>data table notebook</a>'\n",
              "            + ' to learn more about interactive tables.';\n",
              "          element.innerHTML = '';\n",
              "          dataTable['output_type'] = 'display_data';\n",
              "          await google.colab.output.renderOutput(dataTable, element);\n",
              "          const docLink = document.createElement('div');\n",
              "          docLink.innerHTML = docLinkHtml;\n",
              "          element.appendChild(docLink);\n",
              "        }\n",
              "      </script>\n",
              "    </div>\n",
              "  </div>\n",
              "  "
            ]
          },
          "metadata": {},
          "execution_count": 31
        }
      ],
      "source": [
        "test.head()"
      ]
    },
    {
      "cell_type": "code",
      "execution_count": null,
      "metadata": {
        "id": "htHb7gtk3TuM",
        "colab": {
          "base_uri": "https://localhost:8080/"
        },
        "outputId": "4df00360-4acc-408a-d404-d08549920551"
      },
      "outputs": [
        {
          "output_type": "execute_result",
          "data": {
            "text/plain": [
              "0             <keygen onpointerdown=alert(1)>XSS</keygen>\n",
              "1       <link id=x tabindex=1 ondeactivate=alert(1)></...\n",
              "2       <li id=\"cite_note-sak2014-269\"><span class=\"mw...\n",
              "3                <pre oncontextmenu=\"alert(1)\">test</pre>\n",
              "4       <center onkeydown=\"alert(1)\" contenteditable>t...\n",
              "                              ...                        \n",
              "2179    <ruby onkeypress=\"alert(1)\" contenteditable>te...\n",
              "2180                        <input id=x onfocus=alert(1)>\n",
              "2181    <ul><li><a href=\"#CITEREFLucas1961\">Lucas 1961...\n",
              "2182               <small onclick=\"alert(1)\">test</small>\n",
              "2183    <section id=x tabindex=1 ondeactivate=alert(1)...\n",
              "Name: Sentence, Length: 2184, dtype: object"
            ]
          },
          "metadata": {},
          "execution_count": 32
        }
      ],
      "source": [
        "#remove 'Sentence' column\n",
        "test.pop('Sentence')"
      ]
    },
    {
      "cell_type": "code",
      "execution_count": null,
      "metadata": {
        "id": "85sJqMeS3XlQ",
        "colab": {
          "base_uri": "https://localhost:8080/",
          "height": 206
        },
        "outputId": "b1e356b9-371d-429e-b4b8-aae53f09f587"
      },
      "outputs": [
        {
          "output_type": "execute_result",
          "data": {
            "text/plain": [
              "                   Label                                  tokenized_payload\n",
              "0     __label__Malicious  less keygen onpointerdown eql alert opbrk int ...\n",
              "1     __label__Malicious  less link id eql x tabindex eql int ondeactiva...\n",
              "2  __label__Nonmalicious  less li id eql dqout cite udsc note hyph sak i...\n",
              "3     __label__Malicious  less pre oncontextmenu eql dqout alert opbrk i...\n",
              "4     __label__Malicious  less center onkeydown eql dqout alert opbrk in..."
            ],
            "text/html": [
              "\n",
              "  <div id=\"df-5a271673-741b-4161-bb36-9cc2c670d378\">\n",
              "    <div class=\"colab-df-container\">\n",
              "      <div>\n",
              "<style scoped>\n",
              "    .dataframe tbody tr th:only-of-type {\n",
              "        vertical-align: middle;\n",
              "    }\n",
              "\n",
              "    .dataframe tbody tr th {\n",
              "        vertical-align: top;\n",
              "    }\n",
              "\n",
              "    .dataframe thead th {\n",
              "        text-align: right;\n",
              "    }\n",
              "</style>\n",
              "<table border=\"1\" class=\"dataframe\">\n",
              "  <thead>\n",
              "    <tr style=\"text-align: right;\">\n",
              "      <th></th>\n",
              "      <th>Label</th>\n",
              "      <th>tokenized_payload</th>\n",
              "    </tr>\n",
              "  </thead>\n",
              "  <tbody>\n",
              "    <tr>\n",
              "      <th>0</th>\n",
              "      <td>__label__Malicious</td>\n",
              "      <td>less keygen onpointerdown eql alert opbrk int ...</td>\n",
              "    </tr>\n",
              "    <tr>\n",
              "      <th>1</th>\n",
              "      <td>__label__Malicious</td>\n",
              "      <td>less link id eql x tabindex eql int ondeactiva...</td>\n",
              "    </tr>\n",
              "    <tr>\n",
              "      <th>2</th>\n",
              "      <td>__label__Nonmalicious</td>\n",
              "      <td>less li id eql dqout cite udsc note hyph sak i...</td>\n",
              "    </tr>\n",
              "    <tr>\n",
              "      <th>3</th>\n",
              "      <td>__label__Malicious</td>\n",
              "      <td>less pre oncontextmenu eql dqout alert opbrk i...</td>\n",
              "    </tr>\n",
              "    <tr>\n",
              "      <th>4</th>\n",
              "      <td>__label__Malicious</td>\n",
              "      <td>less center onkeydown eql dqout alert opbrk in...</td>\n",
              "    </tr>\n",
              "  </tbody>\n",
              "</table>\n",
              "</div>\n",
              "      <button class=\"colab-df-convert\" onclick=\"convertToInteractive('df-5a271673-741b-4161-bb36-9cc2c670d378')\"\n",
              "              title=\"Convert this dataframe to an interactive table.\"\n",
              "              style=\"display:none;\">\n",
              "        \n",
              "  <svg xmlns=\"http://www.w3.org/2000/svg\" height=\"24px\"viewBox=\"0 0 24 24\"\n",
              "       width=\"24px\">\n",
              "    <path d=\"M0 0h24v24H0V0z\" fill=\"none\"/>\n",
              "    <path d=\"M18.56 5.44l.94 2.06.94-2.06 2.06-.94-2.06-.94-.94-2.06-.94 2.06-2.06.94zm-11 1L8.5 8.5l.94-2.06 2.06-.94-2.06-.94L8.5 2.5l-.94 2.06-2.06.94zm10 10l.94 2.06.94-2.06 2.06-.94-2.06-.94-.94-2.06-.94 2.06-2.06.94z\"/><path d=\"M17.41 7.96l-1.37-1.37c-.4-.4-.92-.59-1.43-.59-.52 0-1.04.2-1.43.59L10.3 9.45l-7.72 7.72c-.78.78-.78 2.05 0 2.83L4 21.41c.39.39.9.59 1.41.59.51 0 1.02-.2 1.41-.59l7.78-7.78 2.81-2.81c.8-.78.8-2.07 0-2.86zM5.41 20L4 18.59l7.72-7.72 1.47 1.35L5.41 20z\"/>\n",
              "  </svg>\n",
              "      </button>\n",
              "      \n",
              "  <style>\n",
              "    .colab-df-container {\n",
              "      display:flex;\n",
              "      flex-wrap:wrap;\n",
              "      gap: 12px;\n",
              "    }\n",
              "\n",
              "    .colab-df-convert {\n",
              "      background-color: #E8F0FE;\n",
              "      border: none;\n",
              "      border-radius: 50%;\n",
              "      cursor: pointer;\n",
              "      display: none;\n",
              "      fill: #1967D2;\n",
              "      height: 32px;\n",
              "      padding: 0 0 0 0;\n",
              "      width: 32px;\n",
              "    }\n",
              "\n",
              "    .colab-df-convert:hover {\n",
              "      background-color: #E2EBFA;\n",
              "      box-shadow: 0px 1px 2px rgba(60, 64, 67, 0.3), 0px 1px 3px 1px rgba(60, 64, 67, 0.15);\n",
              "      fill: #174EA6;\n",
              "    }\n",
              "\n",
              "    [theme=dark] .colab-df-convert {\n",
              "      background-color: #3B4455;\n",
              "      fill: #D2E3FC;\n",
              "    }\n",
              "\n",
              "    [theme=dark] .colab-df-convert:hover {\n",
              "      background-color: #434B5C;\n",
              "      box-shadow: 0px 1px 3px 1px rgba(0, 0, 0, 0.15);\n",
              "      filter: drop-shadow(0px 1px 2px rgba(0, 0, 0, 0.3));\n",
              "      fill: #FFFFFF;\n",
              "    }\n",
              "  </style>\n",
              "\n",
              "      <script>\n",
              "        const buttonEl =\n",
              "          document.querySelector('#df-5a271673-741b-4161-bb36-9cc2c670d378 button.colab-df-convert');\n",
              "        buttonEl.style.display =\n",
              "          google.colab.kernel.accessAllowed ? 'block' : 'none';\n",
              "\n",
              "        async function convertToInteractive(key) {\n",
              "          const element = document.querySelector('#df-5a271673-741b-4161-bb36-9cc2c670d378');\n",
              "          const dataTable =\n",
              "            await google.colab.kernel.invokeFunction('convertToInteractive',\n",
              "                                                     [key], {});\n",
              "          if (!dataTable) return;\n",
              "\n",
              "          const docLinkHtml = 'Like what you see? Visit the ' +\n",
              "            '<a target=\"_blank\" href=https://colab.research.google.com/notebooks/data_table.ipynb>data table notebook</a>'\n",
              "            + ' to learn more about interactive tables.';\n",
              "          element.innerHTML = '';\n",
              "          dataTable['output_type'] = 'display_data';\n",
              "          await google.colab.output.renderOutput(dataTable, element);\n",
              "          const docLink = document.createElement('div');\n",
              "          docLink.innerHTML = docLinkHtml;\n",
              "          element.appendChild(docLink);\n",
              "        }\n",
              "      </script>\n",
              "    </div>\n",
              "  </div>\n",
              "  "
            ]
          },
          "metadata": {},
          "execution_count": 33
        }
      ],
      "source": [
        "test.head()"
      ]
    },
    {
      "cell_type": "code",
      "execution_count": null,
      "metadata": {
        "id": "tB-PN8F8uXht"
      },
      "outputs": [],
      "source": [
        "#convert CSV files to text files\n",
        "train[['Label', 'tokenized_payload']].to_csv('/content/train.txt', \n",
        "                                          index = False, \n",
        "                                          sep = ' ',\n",
        "                                          header = None, \n",
        "                                          quoting = csv.QUOTE_NONE, \n",
        "                                          quotechar = \"\", \n",
        "                                          escapechar = \" \")\n",
        "test[['Label', 'tokenized_payload']].to_csv('/content/test.txt', \n",
        "                                          index = False, \n",
        "                                          sep = ' ',\n",
        "                                          header = None, \n",
        "                                          quoting = csv.QUOTE_NONE, \n",
        "                                          quotechar = \"\", \n",
        "                                          escapechar = \" \")\n",
        "\n"
      ]
    },
    {
      "cell_type": "code",
      "execution_count": null,
      "metadata": {
        "id": "cVxxzT5X0pIa",
        "colab": {
          "base_uri": "https://localhost:8080/"
        },
        "outputId": "cff7e636-bd77-4194-fa6d-3f75b912b6dc"
      },
      "outputs": [
        {
          "output_type": "stream",
          "name": "stdout",
          "text": [
            "Looking in indexes: https://pypi.org/simple, https://us-python.pkg.dev/colab-wheels/public/simple/\n",
            "Collecting fasttext\n",
            "  Downloading fasttext-0.9.2.tar.gz (68 kB)\n",
            "\u001b[K     |████████████████████████████████| 68 kB 6.8 MB/s \n",
            "\u001b[?25hCollecting pybind11>=2.2\n",
            "  Using cached pybind11-2.9.2-py2.py3-none-any.whl (213 kB)\n",
            "Requirement already satisfied: setuptools>=0.7.0 in /usr/local/lib/python3.7/dist-packages (from fasttext) (57.4.0)\n",
            "Requirement already satisfied: numpy in /usr/local/lib/python3.7/dist-packages (from fasttext) (1.21.6)\n",
            "Building wheels for collected packages: fasttext\n",
            "  Building wheel for fasttext (setup.py) ... \u001b[?25l\u001b[?25hdone\n",
            "  Created wheel for fasttext: filename=fasttext-0.9.2-cp37-cp37m-linux_x86_64.whl size=3144540 sha256=76e4425fac7bf42bf107c9437674e76bda7b2814bbf9b3caf9a189bdd8ae7fa0\n",
            "  Stored in directory: /root/.cache/pip/wheels/4e/ca/bf/b020d2be95f7641801a6597a29c8f4f19e38f9c02a345bab9b\n",
            "Successfully built fasttext\n",
            "Installing collected packages: pybind11, fasttext\n",
            "Successfully installed fasttext-0.9.2 pybind11-2.9.2\n"
          ]
        }
      ],
      "source": [
        "!pip install fasttext"
      ]
    },
    {
      "cell_type": "code",
      "execution_count": null,
      "metadata": {
        "id": "aSso5yWR1IEr"
      },
      "outputs": [],
      "source": [
        "import fasttext"
      ]
    },
    {
      "cell_type": "code",
      "execution_count": null,
      "metadata": {
        "id": "MI9qXGbO1hDL"
      },
      "outputs": [],
      "source": [
        "#train fasttext model\n",
        "fasttext_model = fasttext.train_supervised('/content/train.txt')"
      ]
    },
    {
      "cell_type": "code",
      "execution_count": null,
      "metadata": {
        "id": "5Qlud-l914q8",
        "colab": {
          "base_uri": "https://localhost:8080/"
        },
        "outputId": "6674182d-38fe-4eab-c31b-97912ac9eaec"
      },
      "outputs": [
        {
          "output_type": "stream",
          "name": "stdout",
          "text": [
            "99.81684981684981\n"
          ]
        }
      ],
      "source": [
        "#test the model \n",
        "\n",
        "Number_of_Samples, Precision, Recall = fasttext_model.test('/content/test.txt') #test the model\n",
        "\n",
        "F_Measure = ((2 * Precision * Recall) / (Precision + Recall))\n",
        "print(F_Measure*100)"
      ]
    },
    {
      "cell_type": "code",
      "source": [
        "#calculate the accuracy\n",
        "\n",
        "#add 'predicted' column after applying model.predict() function to 'tokenized_payload' column\n",
        "df[\"predicted\"] = df[\"tokenized_payload\"].apply(lambda x: fasttext_model.predict(x)[0][0])\n",
        "\n",
        "#add __label__\n",
        "df['predicted'] = df['predicted'].map({'__label__Nonmalicious':0, '__label__Malicious':1})\n",
        "\n",
        "#calculate confusion_matrix\n",
        "[[TP, FP], [FN, TN]] = confusion_matrix(df[\"Label\"], df[\"predicted\"])\n",
        "\n",
        "#calculate the accuracy\n",
        "Accuracy = (TP+TN)/(TP+TN+FP+FN)\n",
        "print(Accuracy*100)"
      ],
      "metadata": {
        "colab": {
          "base_uri": "https://localhost:8080/"
        },
        "id": "6wYYWQYmt8Cj",
        "outputId": "dbe80b81-dd1f-4796-a319-4f09b2d3bc44"
      },
      "execution_count": null,
      "outputs": [
        {
          "output_type": "stream",
          "name": "stdout",
          "text": [
            "99.79847943574242\n"
          ]
        }
      ]
    },
    {
      "cell_type": "code",
      "execution_count": null,
      "metadata": {
        "id": "ED2CMc6y5-Di",
        "colab": {
          "base_uri": "https://localhost:8080/"
        },
        "outputId": "11a09bd6-a8a9-4d21-8089-566a30c270db"
      },
      "outputs": [
        {
          "output_type": "stream",
          "name": "stdout",
          "text": [
            "less svg gret less a gret less animate attributename eql href values eql javascript coln alert opbrk int cbrk slsh gret less text x eql int int y eql int int gret click me less slsh text gret less slsh a gret less slsh svg gret\n"
          ]
        }
      ],
      "source": [
        "#test the model using a new payload\n",
        "#first tokenize it\n",
        "print(tokenize('<svg><a><animate attributeName=href values=javascript:alert(1) /><text x=20 y=20>Click me</text></a></svg>'))\n"
      ]
    },
    {
      "cell_type": "code",
      "execution_count": null,
      "metadata": {
        "id": "9pY3mKUa6Qtd",
        "colab": {
          "base_uri": "https://localhost:8080/"
        },
        "outputId": "f7924c21-38fe-4bb1-aacb-12f05e44d642"
      },
      "outputs": [
        {
          "output_type": "execute_result",
          "data": {
            "text/plain": [
              "(('__label__Malicious',), array([0.97377121]))"
            ]
          },
          "metadata": {},
          "execution_count": 41
        }
      ],
      "source": [
        "#now predict the label\n",
        "fasttext_model.predict('less svg gret less a gret less animate attributename eql href values eql javascript coln alert opbrk int cbrk slsh gret less text x eql int int y eql int int gret click me less slsh text gret less slsh a gret less slsh svg gret')"
      ]
    },
    {
      "cell_type": "code",
      "execution_count": null,
      "metadata": {
        "id": "k_a3ed-Z6WxV",
        "colab": {
          "base_uri": "https://localhost:8080/"
        },
        "outputId": "47aeb510-3226-471b-9f15-7c464c585a54"
      },
      "outputs": [
        {
          "output_type": "stream",
          "name": "stdout",
          "text": [
            "less x ondrag eql alert opbrk int cbrk gret drag this exlm\n"
          ]
        }
      ],
      "source": [
        "print(tokenize('<x ondrag=alert(1)>drag this!'))"
      ]
    },
    {
      "cell_type": "code",
      "execution_count": null,
      "metadata": {
        "id": "uvfLuXBa7WQa",
        "colab": {
          "base_uri": "https://localhost:8080/"
        },
        "outputId": "e52539c5-ae95-43ef-f2e4-8dcfce5aa49f"
      },
      "outputs": [
        {
          "output_type": "execute_result",
          "data": {
            "text/plain": [
              "(('__label__Malicious',), array([1.00000811]))"
            ]
          },
          "metadata": {},
          "execution_count": 43
        }
      ],
      "source": [
        "fasttext_model.predict('less x ondrag eql alert opbrk int cbrk gret drag this exlm')"
      ]
    },
    {
      "cell_type": "markdown",
      "metadata": {
        "id": "E5HaoqYeNxH1"
      },
      "source": [
        ""
      ]
    }
  ],
  "metadata": {
    "colab": {
      "collapsed_sections": [],
      "name": "DefenseMechanisms-Project.ipynb",
      "provenance": [],
      "include_colab_link": true
    },
    "kernelspec": {
      "display_name": "Python 3",
      "name": "python3"
    },
    "language_info": {
      "name": "python"
    }
  },
  "nbformat": 4,
  "nbformat_minor": 0
}